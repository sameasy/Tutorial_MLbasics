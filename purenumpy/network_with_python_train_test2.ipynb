{
 "cells": [
  {
   "cell_type": "markdown",
   "metadata": {},
   "source": [
    "### shamik_april_2\n",
    "## vanilla network with numpy"
   ]
  },
  {
   "cell_type": "markdown",
   "metadata": {},
   "source": [
    "## Load libraries and define activations"
   ]
  },
  {
   "cell_type": "code",
   "execution_count": 4,
   "metadata": {
    "collapsed": true
   },
   "outputs": [],
   "source": [
    "from matplotlib import pyplot as plt \n",
    "import numpy as np\n",
    "def sigmoid(x):\n",
    "    return 1 / (1 + np.e ** -x)\n",
    "def softmax(x):\n",
    "    \"\"\"Compute softmax values for each sets of scores in x.\"\"\"   \n",
    "    return np.exp(x) / np.sum(np.exp(x), axis=0)\n",
    "n_input = int(2)\n",
    "n_hidden = int(3)\n",
    "n_output = int(2)\n",
    "n_epochs = 50"
   ]
  },
  {
   "cell_type": "markdown",
   "metadata": {},
   "source": [
    "## Function for forward pass of data"
   ]
  },
  {
   "cell_type": "code",
   "execution_count": 5,
   "metadata": {
    "collapsed": true
   },
   "outputs": [],
   "source": [
    "def forward_pass_output(input_vector,hidden_weights,output_weights):\n",
    "        # input_vector is ndarray\n",
    "        input_vector = np.array(input_vector, ndmin=2).T\n",
    "        output_vector = np.dot(hidden_weights, input_vector)\n",
    "        output_vector = sigmoid(output_vector)\n",
    "        output_vector = np.dot(output_weights, output_vector)\n",
    "        output_vector = softmax(output_vector)\n",
    "        return output_vector\n"
   ]
  },
  {
   "cell_type": "markdown",
   "metadata": {},
   "source": [
    "## Backpropagation "
   ]
  },
  {
   "cell_type": "code",
   "execution_count": 9,
   "metadata": {
    "collapsed": true
   },
   "outputs": [],
   "source": [
    "def train(input_vector,expected_vector,learning_rate,hidden_weights,output_weights ):\n",
    "    input_vector = np.array(input_vector, ndmin=2).T\n",
    "    expected_vector = np.array(expected_vector, ndmin=2).T\n",
    "    output_vector1 = np.dot(hidden_weights, input_vector)\n",
    "    output_vector_hidden = sigmoid(output_vector1)\n",
    "    output_vector2 = np.dot(output_weights, output_vector_hidden)\n",
    "    output_vector_network = softmax(output_vector2)\n",
    "    #calculate output error\n",
    "    error_at_output = (expected_vector - output_vector_network)\n",
    "    # update the weights:\n",
    "    del_output = error_at_output * output_vector_network * (1.0 - output_vector_network)\n",
    "    deltaoutput = learning_rate  * np.dot(del_output, output_vector_hidden.T)\n",
    "    output_weights_orig = output_weights\n",
    "    output_weights += deltaoutput\n",
    "    # calculate hidden errors:\n",
    "    \n",
    "    del_hidden = np.dot(output_weights_orig.T, del_output)\n",
    "    # update the weights:\n",
    "    deltahidden = del_hidden * output_vector_hidden * (1.0 - output_vector_hidden)\n",
    "    hidden_weights += learning_rate * np.dot(deltahidden, input_vector.T)\n"
   ]
  },
  {
   "cell_type": "markdown",
   "metadata": {},
   "source": [
    "## Training using forward prop and back prop"
   ]
  },
  {
   "cell_type": "code",
   "execution_count": 10,
   "metadata": {
    "collapsed": true
   },
   "outputs": [],
   "source": [
    "def train_network(dataset, l_rate, n_epoch):\n",
    "    loss_array = np.array([])\n",
    "    epoch_array = np.array([])\n",
    "    for epoch in range(n_epoch):\n",
    "        print \"epoch =\",epoch\n",
    "        sum_error = 0\n",
    "        event_count = 0\n",
    "        for row in dataset:\n",
    "            #print row\n",
    "            event_count =event_count+1\n",
    "            #if event_count % 1000 == 0:\n",
    "            #    print event_count,\"events done out of\",len(dataset)\n",
    "            X_train = row[:2]\n",
    "            Y_train = row[2:]\n",
    "            outputs = forward_pass_output(X_train,hidden_weights_set,output_weights_set)\n",
    "            expected = np.array(Y_train,ndmin=2).T\n",
    "            sum_error += np.sum([(expected-outputs)**2])/2\n",
    "            train(X_train,Y_train,l_rate,hidden_weights_set,output_weights_set)\n",
    "        print (\"epoch, lrate, error=\",epoch, l_rate, sum_error/len(dataset))\n",
    "        loss_array = np.append(loss_array,sum_error/len(dataset))\n",
    "        epoch_array = np.append(epoch_array,int(epoch+1))\n",
    "    \n",
    "    plt.plot(epoch_array,loss_array)\n",
    "    plt.ylabel('loss')\n",
    "    plt.xlabel('epochs')\n",
    "    plt.show()"
   ]
  },
  {
   "cell_type": "markdown",
   "metadata": {},
   "source": [
    "## load data for training"
   ]
  },
  {
   "cell_type": "code",
   "execution_count": 18,
   "metadata": {},
   "outputs": [
    {
     "name": "stdout",
     "output_type": "stream",
     "text": [
      "initial hidden layer weights:\n",
      "[[ 0.66532578  0.91351583]\n",
      " [ 0.09775093  0.06162656]\n",
      " [ 0.90136937  0.66730155]]\n",
      "initial ouput layer weights:\n",
      "[[ 0.76610962  0.29574027  0.21358705]\n",
      " [ 0.08263783  0.46591789  0.17735255]]\n",
      "epoch = 0\n",
      "('epoch, lrate, error=', 0, 0.01, 0.24673779138453994)\n",
      "epoch = 1\n",
      "('epoch, lrate, error=', 1, 0.01, 0.24321563786527617)\n",
      "epoch = 2\n",
      "('epoch, lrate, error=', 2, 0.01, 0.24081798549382627)\n",
      "epoch = 3\n",
      "('epoch, lrate, error=', 3, 0.01, 0.23857315968531284)\n",
      "epoch = 4\n",
      "('epoch, lrate, error=', 4, 0.01, 0.23645020721630625)\n",
      "epoch = 5\n",
      "('epoch, lrate, error=', 5, 0.01, 0.23443964676126708)\n",
      "epoch = 6\n",
      "('epoch, lrate, error=', 6, 0.01, 0.23253190619236605)\n",
      "epoch = 7\n",
      "('epoch, lrate, error=', 7, 0.01, 0.23071859997842867)\n",
      "epoch = 8\n",
      "('epoch, lrate, error=', 8, 0.01, 0.2289923411277914)\n",
      "epoch = 9\n",
      "('epoch, lrate, error=', 9, 0.01, 0.22734652244928333)\n",
      "epoch = 10\n",
      "('epoch, lrate, error=', 10, 0.01, 0.2257751741154706)\n",
      "epoch = 11\n",
      "('epoch, lrate, error=', 11, 0.01, 0.2242728748923358)\n",
      "epoch = 12\n",
      "('epoch, lrate, error=', 12, 0.01, 0.22283469414795862)\n",
      "epoch = 13\n",
      "('epoch, lrate, error=', 13, 0.01, 0.22145614846083991)\n",
      "epoch = 14\n",
      "('epoch, lrate, error=', 14, 0.01, 0.22013316428460489)\n",
      "epoch = 15\n",
      "('epoch, lrate, error=', 15, 0.01, 0.21886204318304964)\n",
      "epoch = 16\n",
      "('epoch, lrate, error=', 16, 0.01, 0.2176394285145769)\n",
      "epoch = 17\n",
      "('epoch, lrate, error=', 17, 0.01, 0.21646227331369244)\n",
      "epoch = 18\n",
      "('epoch, lrate, error=', 18, 0.01, 0.21532780944105404)\n",
      "epoch = 19\n",
      "('epoch, lrate, error=', 19, 0.01, 0.21423351824710596)\n",
      "epoch = 20\n",
      "('epoch, lrate, error=', 20, 0.01, 0.21317710308687518)\n",
      "epoch = 21\n",
      "('epoch, lrate, error=', 21, 0.01, 0.2121564640216749)\n",
      "epoch = 22\n",
      "('epoch, lrate, error=', 22, 0.01, 0.21116967495608077)\n",
      "epoch = 23\n",
      "('epoch, lrate, error=', 23, 0.01, 0.21021496332354445)\n",
      "epoch = 24\n",
      "('epoch, lrate, error=', 24, 0.01, 0.20929069229460415)\n",
      "epoch = 25\n",
      "('epoch, lrate, error=', 25, 0.01, 0.20839534536782442)\n",
      "epoch = 26\n",
      "('epoch, lrate, error=', 26, 0.01, 0.20752751312827181)\n",
      "epoch = 27\n",
      "('epoch, lrate, error=', 27, 0.01, 0.20668588192049317)\n",
      "epoch = 28\n",
      "('epoch, lrate, error=', 28, 0.01, 0.20586922417481726)\n",
      "epoch = 29\n",
      "('epoch, lrate, error=', 29, 0.01, 0.20507639013766757)\n",
      "epoch = 30\n",
      "('epoch, lrate, error=', 30, 0.01, 0.20430630077982537)\n",
      "epoch = 31\n",
      "('epoch, lrate, error=', 31, 0.01, 0.20355794168474262)\n",
      "epoch = 32\n",
      "('epoch, lrate, error=', 32, 0.01, 0.20283035774809685)\n",
      "epoch = 33\n",
      "('epoch, lrate, error=', 33, 0.01, 0.20212264854713627)\n",
      "epoch = 34\n",
      "('epoch, lrate, error=', 34, 0.01, 0.20143396426298427)\n",
      "epoch = 35\n",
      "('epoch, lrate, error=', 35, 0.01, 0.20076350206042637)\n",
      "epoch = 36\n",
      "('epoch, lrate, error=', 36, 0.01, 0.20011050284781881)\n",
      "epoch = 37\n",
      "('epoch, lrate, error=', 37, 0.01, 0.19947424835481981)\n",
      "epoch = 38\n",
      "('epoch, lrate, error=', 38, 0.01, 0.19885405847808152)\n",
      "epoch = 39\n",
      "('epoch, lrate, error=', 39, 0.01, 0.19824928885508045)\n",
      "epoch = 40\n",
      "('epoch, lrate, error=', 40, 0.01, 0.197659328634336)\n",
      "epoch = 41\n",
      "('epoch, lrate, error=', 41, 0.01, 0.19708359841673428)\n",
      "epoch = 42\n",
      "('epoch, lrate, error=', 42, 0.01, 0.19652154834765923)\n",
      "epoch = 43\n",
      "('epoch, lrate, error=', 43, 0.01, 0.19597265634363326)\n",
      "epoch = 44\n",
      "('epoch, lrate, error=', 44, 0.01, 0.19543642644017384)\n",
      "epoch = 45\n",
      "('epoch, lrate, error=', 45, 0.01, 0.19491238724992743)\n",
      "epoch = 46\n",
      "('epoch, lrate, error=', 46, 0.01, 0.19440009052189311)\n",
      "epoch = 47\n",
      "('epoch, lrate, error=', 47, 0.01, 0.19389910979393593)\n",
      "epoch = 48\n",
      "('epoch, lrate, error=', 48, 0.01, 0.1934090391317714)\n",
      "epoch = 49\n",
      "('epoch, lrate, error=', 49, 0.01, 0.19292949194840286)\n"
     ]
    },
    {
     "data": {
      "image/png": "[encoded data removed]",
      "text/plain": [
       "<matplotlib.figure.Figure at 0x7fcffcbdf7d0>"
      ]
     },
     "metadata": {},
     "output_type": "display_data"
    },
    {
     "name": "stdout",
     "output_type": "stream",
     "text": [
      "final hidden layer weights:\n",
      "[[ 0.72150406  0.96449151]\n",
      " [ 0.02989223  0.13877378]\n",
      " [ 0.94178948  0.71921791]]\n",
      "final ouput layer weights:\n",
      "[[ 2.56332598 -4.15918097  2.00977481]\n",
      " [-1.71457853  4.92083912 -1.61883521]]\n"
     ]
    }
   ],
   "source": [
    "dataset = np.loadtxt(fname=\"sample_shuff_train.txt\")\n",
    "hidden_weights_set = np.random.rand(n_hidden,n_input)\n",
    "output_weights_set = np.random.rand(n_output,n_hidden)\n",
    "print \"initial hidden layer weights:\\n\",hidden_weights_set\n",
    "print \"initial ouput layer weights:\\n\",output_weights_set   \n",
    "train_network(dataset, 0.01, n_epochs)\n",
    "print \"final hidden layer weights:\\n\",hidden_weights_set\n",
    "print \"final ouput layer weights:\\n\",output_weights_set"
   ]
  },
  {
   "cell_type": "markdown",
   "metadata": {},
   "source": [
    "## testing network"
   ]
  },
  {
   "cell_type": "code",
   "execution_count": 19,
   "metadata": {
    "collapsed": true
   },
   "outputs": [],
   "source": [
    "convolutional neural network kerasdef test_network(dataset1,dataset2):\n",
    "    sum_error = 0\n",
    "    event_count = 0\n",
    "    event_count2 = 0\n",
    "    classa_pred = np.array([])\n",
    "    classb_pred = np.array([])\n",
    "    for row in dataset1:\n",
    "            event_count =event_count+1\n",
    "            if event_count % 1000 == 0:\n",
    "                print event_count,\"events done out of\",len(dataset)\n",
    "            X_train = row[:2]\n",
    "            Y_train = row[2:]\n",
    "            outputs = forward_pass_output(X_train,hidden_weights_set,output_weights_set)\n",
    "            classa_pred = np.append(classa_pred,outputs[0])\n",
    "    for row in dataset2:\n",
    "            event_count2 =event_count2+1\n",
    "            if event_count2 % 1000 == 0:\n",
    "                print event_count2,\"events done out of\",len(dataset)\n",
    "            X_train = row[:2]\n",
    "            Y_train = row[2:]\n",
    "            outputs = forward_pass_output(X_train,hidden_weights_set,output_weights_set)\n",
    "            classb_pred = np.append(classb_pred,outputs[0])           \n",
    "                \n",
    "    plt.hist(classa_pred,bins=100,range=[0,1],color=\"R\")\n",
    "    plt.hist(classb_pred,bins=100,range=[0,1],color=\"B\")\n",
    "    plt.legend(['Class A', 'Class B'], loc='upper right')\n",
    "    plt.show()\n",
    "    print \"class A accuracy =\", sum(np.array ([1.0 if i >= 0.5 else 0.0 for i in classa_pred]))/len(dataset1)\n",
    "    print \"class B accuracy =\", sum(np.array ([1.0 if i <= 0.5 else 0.0 for i in classb_pred]))/len(dataset2)\n",
    "    print \"combined accuracy=\", (sum(np.array ([1.0 if i >= 0.5 else 0.0 for i in classa_pred])) + sum(np.array ([1.0 if i <= 0.5 else 0.0 for i in classb_pred])))/(len(dataset1)+len(dataset2))"
   ]
  },
  {
   "cell_type": "code",
   "execution_count": 20,
   "metadata": {},
   "outputs": [
    {
     "name": "stdout",
     "output_type": "stream",
     "text": [
      "1000 events done out of 4000\n",
      "2000 events done out of 4000\n",
      "1000 events done out of 4000\n",
      "2000 events done out of 4000\n"
     ]
    },
    {
     "data": {
      "image/png": "[encoded data removed]",
      "text/plain": [
       "<matplotlib.figure.Figure at 0x7fcfd2d4be10>"
      ]
     },
     "metadata": {},
     "output_type": "display_data"
    },
    {
     "name": "stdout",
     "output_type": "stream",
     "text": [
      "class A accuracy = 0.9885\n",
      "class B accuracy = 0.4525\n",
      "combined accuracy= 0.7205\n"
     ]
    }
   ],
   "source": [
    "dataset1 = np.loadtxt(fname=\"sample1.txt\")\n",
    "dataset2 = np.loadtxt(fname=\"sample2.txt\")\n",
    "test_network(dataset1,dataset2)"
   ]
  },
  {
   "cell_type": "code",
   "execution_count": null,
   "metadata": {
    "collapsed": true
   },
   "outputs": [],
   "source": []
  }
 ],
 "metadata": {
  "kernelspec": {
   "display_name": "Python 2",
   "language": "python",
   "name": "python2"
  },
  "language_info": {
   "codemirror_mode": {
    "name": "ipython",
    "version": 2
   },
   "file_extension": ".py",
   "mimetype": "text/x-python",
   "name": "python",
   "nbconvert_exporter": "python",
   "pygments_lexer": "ipython2",
   "version": "2.7.13"
  }
 },
 "nbformat": 4,
 "nbformat_minor": 2
}
