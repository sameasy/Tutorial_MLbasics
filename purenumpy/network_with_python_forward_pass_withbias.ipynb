{
 "cells": [
  {
   "cell_type": "markdown",
   "metadata": {},
   "source": [
    "### shamik_april_2\n",
    "## To test forward pass with bias"
   ]
  },
  {
   "cell_type": "code",
   "execution_count": 1,
   "metadata": {},
   "outputs": [
    {
     "name": "stdout",
     "output_type": "stream",
     "text": [
      "[ 10.42626086   6.81303272]\n",
      "[ 1.  0.]\n"
     ]
    }
   ],
   "source": [
    "from matplotlib import pyplot as plt \n",
    "import numpy as np\n",
    "def sigmoid(x):\n",
    "    return 1 / (1 + np.e ** -x)\n",
    "def softmax(x):\n",
    "    \"\"\"Compute softmax values for each sets of scores in x.\"\"\"\n",
    "    return np.exp(x) / np.sum(np.exp(x), axis=0)\n",
    "\n",
    "#load dataset and print entry\n",
    "dataset = np.loadtxt(￼\n",
    "fname=\"sample_shuff_train.txt\")\n",
    "\n",
    "X_train = dataset[0,:2]\n",
    "Y_train = dataset[0,2:]\n",
    "print X_train\n",
    "print Y_train"
   ]
  },
  {
   "cell_type": "code",
   "execution_count": 2,
   "metadata": {},
   "outputs": [
    {
     "name": "stdout",
     "output_type": "stream",
     "text": [
      "hidden layer weight matrix:\n",
      "[[ 0.83965453  0.26925491  0.0433967 ]\n",
      " [ 0.16015403  0.49404071  0.90862132]\n",
      " [ 0.20776575  0.76989533  0.06788894]]\n",
      "output layer weight matrix:\n",
      "[[ 0.12565146  0.10656284  0.85290476  0.83842329]\n",
      " [ 0.17224095  0.94745758  0.77014386  0.5058765 ]]\n"
     ]
    }
   ],
   "source": [
    "#create weight matrix\n",
    "n_input = int(2)\n",
    "n_hidden = int(3)\n",
    "n_output = int(2)\n",
    "hidden_weights = np.random.rand(n_hidden,n_input+1)\n",
    "output_weights = np.random.rand(n_output,n_hidden+1)\n",
    "print \"hidden layer weight matrix:\\n\",hidden_weights\n",
    "print \"output layer weight matrix:\\n\",output_weights"
   ]
  },
  {
   "cell_type": "code",
   "execution_count": 3,
   "metadata": {},
   "outputs": [
    {
     "name": "stdout",
     "output_type": "stream",
     "text": [
      "input vector added bias:\n",
      "[ 10.42626086   6.81303272   1.        ]\n",
      "input vector transposed:\n",
      "[[ 10.42626086]\n",
      " [  6.81303272]\n",
      " [  1.        ]]\n",
      "output of summed input of hidden layer:\n",
      "[[ 10.63229635]\n",
      " [  5.94434449]\n",
      " [  7.47943089]]\n",
      "activated output of hidden layer:\n",
      "[[ 0.99997588]\n",
      " [ 0.99738623]\n",
      " [ 0.99943574]]\n",
      "bias added output of hidden layer:\n",
      "[[ 0.99997588]\n",
      " [ 0.99738623]\n",
      " [ 0.99943574]\n",
      " [ 1.        ]]\n",
      "output of summed input to last layer:\n",
      "[[ 1.92277954]\n",
      " [ 2.39280374]]\n",
      "activated output of last layer:\n",
      "[[ 0.38461052]\n",
      " [ 0.61538948]]\n"
     ]
    }
   ],
   "source": [
    "input_vector = np.append(X_train,1.0)\n",
    "print \"input vector added bias:\\n\",input_vector\n",
    "input_vector = np.array(input_vector, ndmin=2).T\n",
    "print \"input vector transposed:\\n\",input_vector\n",
    "output_vector = np.dot(hidden_weights, input_vector)\n",
    "print \"output of summed input of hidden layer:\\n\",output_vector\n",
    "output_vector = sigmoid(output_vector)\n",
    "print \"activated output of hidden layer:\\n\",output_vector\n",
    "output_vector = np.append(output_vector,1.0)\n",
    "output_vector = np.array(output_vector, ndmin=2).T\n",
    "print \"bias added output of hidden layer:\\n\",output_vector\n",
    "output_vector = np.dot(output_weights, output_vector)\n",
    "print \"output of summed input to last layer:\\n\",output_vector\n",
    "output_vector = softmax(output_vector)\n",
    "print \"activated output of last layer:\\n\",output_vector"
   ]
  },
  {
   "cell_type": "code",
   "execution_count": 4,
   "metadata": {},
   "outputs": [
    {
     "name": "stdout",
     "output_type": "stream",
     "text": [
      "[[ 1.]\n",
      " [ 0.]]\n",
      "[[ 0.38461052]\n",
      " [ 0.61538948]]\n",
      "0.37870421762\n"
     ]
    }
   ],
   "source": [
    "expected = np.array(Y_train,ndmin=2).T\n",
    "print expected\n",
    "print output_vector\n",
    "error = np.sum([(expected-output_vector)**2])/2\n",
    "print error"
   ]
  },
  {
   "cell_type": "code",
   "execution_count": null,
   "metadata": {
    "collapsed": true
   },
   "outputs": [],
   "source": []
  }
 ],
 "metadata": {
  "kernelspec": {
   "display_name": "Python 2",
   "language": "python",
   "name": "python2"
  },
  "language_info": {
   "codemirror_mode": {
    "name": "ipython",
    "version": 2
   },
   "file_extension": ".py",
   "mimetype": "text/x-python",
   "name": "python",
   "nbconvert_exporter": "python",
   "pygments_lexer": "ipython2",
   "version": "2.7.13"
  }
 },
 "nbformat": 4,
 "nbformat_minor": 2
}
