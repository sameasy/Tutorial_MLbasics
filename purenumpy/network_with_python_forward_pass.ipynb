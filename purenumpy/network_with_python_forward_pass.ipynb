{
 "cells": [
  {
   "cell_type": "markdown",
   "metadata": {},
   "source": [
    "### shamik_april_2\n",
    "## To test forward pass"
   ]
  },
  {
   "cell_type": "code",
   "execution_count": 1,
   "metadata": {},
   "outputs": [
    {
     "name": "stdout",
     "output_type": "stream",
     "text": [
      "[ 10.63071181   8.09246276]\n",
      "[ 1.  0.]\n"
     ]
    }
   ],
   "source": [
    "from matplotlib import pyplot as plt \n",
    "import numpy as np\n",
    "def sigmoid(x):\n",
    "    return 1 / (1 + np.e ** -x)\n",
    "def softmax(x):\n",
    "    \"\"\"Compute softmax values for each sets of scores in x.\"\"\"\n",
    "    return np.exp(x) / np.sum(np.exp(x), axis=0)\n",
    "\n",
    "#load dataset and print entry\n",
    "dataset = np.loadtxt(fname=\"sample_shuff_train.txt\")\n",
    "\n",
    "X_train = dataset[0,:2]\n",
    "Y_train = dataset[0,2:]\n",
    "print X_train\n",
    "print Y_train"
   ]
  },
  {
   "cell_type": "code",
   "execution_count": 2,
   "metadata": {},
   "outputs": [
    {
     "name": "stdout",
     "output_type": "stream",
     "text": [
      "hidden layer weight matrix:\n",
      "[[ 0.41867779  0.29294189]\n",
      " [ 0.36826227  0.71944929]\n",
      " [ 0.17273545  0.05498344]]\n",
      "output layer weight matrix:\n",
      "[[ 0.3977447   0.24860463  0.07104514]\n",
      " [ 0.4654203   0.01540456  0.47941204]]\n"
     ]
    }
   ],
   "source": [
    "#create weight matrix\n",
    "n_input = int(2)\n",
    "n_hidden = int(3)\n",
    "n_output = int(2)\n",
    "hidden_weights = np.random.rand(n_hidden,n_input)\n",
    "output_weights = np.random.rand(n_output,n_hidden)\n",
    "print \"hidden layer weight matrix:\\n\",hidden_weights\n",
    "print \"output layer weight matrix:\\n\",output_weights"
   ]
  },
  {
   "cell_type": "code",
   "execution_count": 3,
   "metadata": {},
   "outputs": [
    {
     "name": "stdout",
     "output_type": "stream",
     "text": [
      "output of summed input of hidden layer:\n",
      "[[ 6.82146423]\n",
      " [ 9.73700662]\n",
      " [ 2.28125225]]\n",
      "activated output of hidden layer:\n",
      "[[ 0.99891106]\n",
      " [ 0.99994095]\n",
      " [ 0.90731241]]\n",
      "output of summed input to last layer:\n",
      "[[ 0.71036167]\n",
      " [ 0.91529363]]\n",
      "activated output of last layer:\n",
      "[[ 0.44894556]\n",
      " [ 0.55105444]]\n"
     ]
    }
   ],
   "source": [
    "input_vector = np.array(X_train, ndmin=2).T\n",
    "output_vector = np.dot(hidden_weights, input_vector)\n",
    "print \"output of summed input of hidden layer:\\n\",output_vector\n",
    "output_vector = sigmoid(output_vector)\n",
    "print \"activated output of hidden layer:\\n\",output_vector\n",
    "output_vector = np.dot(output_weights, output_vector)\n",
    "print \"output of summed input to last layer:\\n\",output_vector\n",
    "output_vector = softmax(output_vector)\n",
    "print \"activated output of last layer:\\n\",output_vector"
   ]
  },
  {
   "cell_type": "code",
   "execution_count": 4,
   "metadata": {},
   "outputs": [
    {
     "name": "stdout",
     "output_type": "stream",
     "text": [
      "[[ 1.]\n",
      " [ 0.]]\n",
      "0.303660993202\n"
     ]
    }
   ],
   "source": [
    "expected = np.array(Y_train,ndmin=2).T\n",
    "print expected\n",
    "error = np.sum([(expected-output_vector)**2])/2\n",
    "print error"
   ]
  },
  {
   "cell_type": "code",
   "execution_count": null,
   "metadata": {
    "collapsed": true
   },
   "outputs": [],
   "source": []
  }
 ],
 "metadata": {
  "kernelspec": {
   "display_name": "Python 2",
   "language": "python",
   "name": "python2"
  },
  "language_info": {
   "codemirror_mode": {
    "name": "ipython",
    "version": 2
   },
   "file_extension": ".py",
   "mimetype": "text/x-python",
   "name": "python",
   "nbconvert_exporter": "python",
   "pygments_lexer": "ipython2",
   "version": "2.7.13"
  }
 },
 "nbformat": 4,
 "nbformat_minor": 2
}
