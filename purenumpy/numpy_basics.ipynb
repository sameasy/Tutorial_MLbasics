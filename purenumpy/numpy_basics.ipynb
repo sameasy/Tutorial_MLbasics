{
 "cells": [
  {
   "cell_type": "markdown",
   "metadata": {},
   "source": [
    "### shamik_april_2\n",
    "## numpy basics"
   ]
  },
  {
   "cell_type": "code",
   "execution_count": 1,
   "metadata": {
    "collapsed": true
   },
   "outputs": [],
   "source": [
    "import numpy as np\n"
   ]
  },
  {
   "cell_type": "code",
   "execution_count": 2,
   "metadata": {},
   "outputs": [
    {
     "name": "stdout",
     "output_type": "stream",
     "text": [
      "<type 'int'>\n",
      "<type 'float'>\n",
      "[1, 2, 3]\n",
      "<type 'list'>\n",
      "[1 2 3]\n",
      "<type 'numpy.ndarray'>\n"
     ]
    }
   ],
   "source": [
    "a = 1\n",
    "print type(a)\n",
    "a = 1.0\n",
    "print type(a)\n",
    "a = [1,2,3]\n",
    "print a\n",
    "print type(a)\n",
    "a = np.array(a)\n",
    "print a\n",
    "print type(a)"
   ]
  },
  {
   "cell_type": "code",
   "execution_count": 3,
   "metadata": {},
   "outputs": [
    {
     "name": "stdout",
     "output_type": "stream",
     "text": [
      "[ 0.82425614  1.27342962  2.23010082 -0.17973317 -1.04572232 -2.17018445\n",
      "  0.27271088  0.70806146 -0.76298034 -1.12418595  1.98389644 -0.25531251]\n"
     ]
    },
    {
     "data": {
      "text/plain": [
       "array([[[ 0.82425614,  1.27342962],\n",
       "        [ 2.23010082, -0.17973317]],\n",
       "\n",
       "       [[-1.04572232, -2.17018445],\n",
       "        [ 0.27271088,  0.70806146]],\n",
       "\n",
       "       [[-0.76298034, -1.12418595],\n",
       "        [ 1.98389644, -0.25531251]]])"
      ]
     },
     "execution_count": 3,
     "metadata": {},
     "output_type": "execute_result"
    }
   ],
   "source": [
    "x = np.random.randn(12)\n",
    "print x\n",
    "x.reshape(3,2,2)"
   ]
  },
  {
   "cell_type": "code",
   "execution_count": 4,
   "metadata": {
    "collapsed": true
   },
   "outputs": [],
   "source": [
    "def parabola(x):\n",
    "    return x*x\n",
    "\n",
    "s_x = np.linspace(-10,10,200)\n",
    "f_x = parabola(s_x)"
   ]
  },
  {
   "cell_type": "code",
   "execution_count": 5,
   "metadata": {},
   "outputs": [
    {
     "data": {
      "image/png": "[encoded data removed]",
      "text/plain": [
       "<matplotlib.figure.Figure at 0x7f934b85f210>"
      ]
     },
     "metadata": {},
     "output_type": "display_data"
    }
   ],
   "source": [
    "import matplotlib.pylab as plt\n",
    "plt.plot(s_x,f_x,color='r')\n",
    "plt.show()"
   ]
  },
  {
   "cell_type": "code",
   "execution_count": null,
   "metadata": {
    "collapsed": true
   },
   "outputs": [],
   "source": []
  }
 ],
 "metadata": {
  "kernelspec": {
   "display_name": "Python 2",
   "language": "python",
   "name": "python2"
  },
  "language_info": {
   "codemirror_mode": {
    "name": "ipython",
    "version": 2
   },
   "file_extension": ".py",
   "mimetype": "text/x-python",
   "name": "python",
   "nbconvert_exporter": "python",
   "pygments_lexer": "ipython2",
   "version": "2.7.13"
  }
 },
 "nbformat": 4,
 "nbformat_minor": 2
}
