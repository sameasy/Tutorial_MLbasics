{
 "cells": [
  {
   "cell_type": "markdown",
   "metadata": {},
   "source": [
    "### shamik_april_2\n",
    "## vanilla network with numpy with bias"
   ]
  },
  {
   "cell_type": "markdown",
   "metadata": {},
   "source": [
    "## Load libraries and define activations"
   ]
  },
  {
   "cell_type": "code",
   "execution_count": 42,
   "metadata": {
    "collapsed": true
   },
   "outputs": [],
   "source": [
    "from matplotlib import pyplot as plt \n",
    "import numpy as np\n",
    "def sigmoid(x):\n",
    "    return 1 / (1 + np.e ** -x)\n",
    "def softmax(x):\n",
    "    \"\"\"Compute softmax values for each sets of scores in x.\"\"\"   \n",
    "    return np.exp(x) / np.sum(np.exp(x), axis=0)\n",
    "n_input = int(2)\n",
    "n_hidden = int(3)\n",
    "n_output = int(2)\n",
    "n_epochs = 50"
   ]
  },
  {
   "cell_type": "markdown",
   "metadata": {},
   "source": [
    "## Function for forward pass of data"
   ]
  },
  {
   "cell_type": "code",
   "execution_count": 43,
   "metadata": {
    "collapsed": true
   },
   "outputs": [],
   "source": [
    "def forward_pass_output(input_vector,hidden_weights,output_weights):\n",
    "        # input_vector is ndarray\n",
    "        input_vector = np.append(input_vector,1.0)\n",
    "        input_vector = np.array(input_vector, ndmin=2).T\n",
    "        output_vector = np.dot(hidden_weights, input_vector)\n",
    "        output_vector = sigmoid(output_vector)\n",
    "        output_vector = np.append(output_vector,1.0)\n",
    "        output_vector = np.array(output_vector, ndmin=2).T\n",
    "        output_vector = np.dot(output_weights, output_vector)\n",
    "        output_vector = softmax(output_vector)\n",
    "        return output_vector\n"
   ]
  },
  {
   "cell_type": "markdown",
   "metadata": {},
   "source": [
    "## Backpropagation "
   ]
  },
  {
   "cell_type": "code",
   "execution_count": 44,
   "metadata": {
    "collapsed": true
   },
   "outputs": [],
   "source": [
    "def train(input_vector,expected_vector,learning_rate,hidden_weights,output_weights ):\n",
    "     \n",
    "    input_vector_bias = np.append(input_vector,1.0)\n",
    "    input_vector_bias = np.array(input_vector_bias, ndmin=2).T\n",
    "    input_vector = np.array(input_vector, ndmin=2).T\n",
    "    expected_vector = np.array(expected_vector, ndmin=2).T\n",
    "    output_vector1 = np.dot(hidden_weights, input_vector_bias)\n",
    "    output_vector_hidden = sigmoid(output_vector1)\n",
    "    output_vector_hidden_bias = np.append(output_vector_hidden,1.0)\n",
    "    output_vector_hidden_bias = np.array(output_vector_hidden_bias, ndmin=2).T\n",
    "    output_vector2 = np.dot(output_weights, output_vector_hidden_bias)\n",
    "    output_vector_network = softmax(output_vector2)\n",
    "    #calculate output error\n",
    "    error_at_output = (expected_vector - output_vector_network)\n",
    "    # update the weights:\n",
    "    del_output = error_at_output * output_vector_network * (1.0 - output_vector_network)\n",
    "    deltaoutput = learning_rate  * np.dot(del_output, output_vector_hidden_bias.T)\n",
    "    output_weights_orig = output_weights\n",
    "    output_weights += deltaoutput\n",
    "    # calculate hidden errors:\n",
    "    del_hidden = np.dot(output_weights_orig[:,0:3].T,del_output )\n",
    "    # update the weights:\n",
    "    deltahidden = del_hidden * output_vector_hidden * (1.0 - output_vector_hidden)\n",
    "    hidden_weights[:,0:2] += learning_rate * np.dot(deltahidden, input_vector.T)\n",
    "    # update bias\n",
    "    \n",
    "    delta_b = del_hidden * output_vector_hidden * (1.0 - output_vector_hidden)\n",
    "    hidden_weights[:,2] += learning_rate * delta_b.reshape(3,)"
   ]
  },
  {
   "cell_type": "markdown",
   "metadata": {},
   "source": [
    "## Training using forward prop and back prop"
   ]
  },
  {
   "cell_type": "code",
   "execution_count": 45,
   "metadata": {
    "collapsed": true
   },
   "outputs": [],
   "source": [
    "def train_network(dataset, l_rate, n_epoch):\n",
    "    loss_array = np.array([])\n",
    "    epoch_array = np.array([])\n",
    "    for epoch in range(n_epoch):\n",
    "        print \"epoch =\",epoch\n",
    "        sum_error = 0\n",
    "        event_count = 0\n",
    "        for row in dataset:\n",
    "            #print row\n",
    "            event_count =event_count+1\n",
    "            #if event_count % 1000 == 0:\n",
    "            #    print event_count,\"events done out of\",len(dataset)\n",
    "            X_train = row[:2]\n",
    "            Y_train = row[2:]\n",
    "            outputs = forward_pass_output(X_train,hidden_weights_set,output_weights_set)\n",
    "            expected = np.array(Y_train,ndmin=2).T\n",
    "            sum_error += np.sum([(expected-outputs)**2])/2\n",
    "            train(X_train,Y_train,l_rate,hidden_weights_set,output_weights_set)\n",
    "        print (\"epoch, lrate, error=\",epoch, l_rate, sum_error/len(dataset))\n",
    "        loss_array = np.append(loss_array,sum_error/len(dataset))\n",
    "        epoch_array = np.append(epoch_array,int(epoch+1))\n",
    "    \n",
    "    plt.plot(epoch_array,loss_array)\n",
    "    plt.ylabel('loss')\n",
    "    plt.xlabel('epochs')\n",
    "    plt.show()"
   ]
  },
  {
   "cell_type": "markdown",
   "metadata": {},
   "source": [
    "## load data for training"
   ]
  },
  {
   "cell_type": "code",
   "execution_count": 46,
   "metadata": {},
   "outputs": [
    {
     "name": "stdout",
     "output_type": "stream",
     "text": [
      "initial hidden layer weights:\n",
      "[[ 0.29447351  0.40108021  0.75105151]\n",
      " [ 0.41633927  0.46349421  0.34249587]\n",
      " [ 0.60256227  0.5743393   0.34369388]]\n",
      "initial ouput layer weights:\n",
      "[[ 0.2391558   0.68540243  0.42522344  0.96957793]\n",
      " [ 0.24142083  0.37537084  0.03357686  0.1344572 ]]\n",
      "epoch = 0\n",
      "('epoch, lrate, error=', 0, 0.01, 0.25464823155557403)\n",
      "epoch = 1\n",
      "('epoch, lrate, error=', 1, 0.01, 0.25034195701523376)\n",
      "epoch = 2\n",
      "('epoch, lrate, error=', 2, 0.01, 0.2501198584275211)\n",
      "epoch = 3\n",
      "('epoch, lrate, error=', 3, 0.01, 0.24904490880491859)\n",
      "epoch = 4\n",
      "('epoch, lrate, error=', 4, 0.01, 0.24668228375348081)\n",
      "epoch = 5\n",
      "('epoch, lrate, error=', 5, 0.01, 0.24528737291042541)\n",
      "epoch = 6\n",
      "('epoch, lrate, error=', 6, 0.01, 0.24369068338086292)\n",
      "epoch = 7\n",
      "('epoch, lrate, error=', 7, 0.01, 0.24173702636916428)\n",
      "epoch = 8\n",
      "('epoch, lrate, error=', 8, 0.01, 0.23927860731255629)\n",
      "epoch = 9\n",
      "('epoch, lrate, error=', 9, 0.01, 0.2361124195801888)\n",
      "epoch = 10\n",
      "('epoch, lrate, error=', 10, 0.01, 0.23196649150663184)\n",
      "epoch = 11\n",
      "('epoch, lrate, error=', 11, 0.01, 0.2264997828703397)\n",
      "epoch = 12\n",
      "('epoch, lrate, error=', 12, 0.01, 0.21934128052668669)\n",
      "epoch = 13\n",
      "('epoch, lrate, error=', 13, 0.01, 0.21020455615637873)\n",
      "epoch = 14\n",
      "('epoch, lrate, error=', 14, 0.01, 0.19908843514076005)\n",
      "epoch = 15\n",
      "('epoch, lrate, error=', 15, 0.01, 0.18646838149018699)\n",
      "epoch = 16\n",
      "('epoch, lrate, error=', 16, 0.01, 0.17326681036771965)\n",
      "epoch = 17\n",
      "('epoch, lrate, error=', 17, 0.01, 0.16053189780974259)\n",
      "epoch = 18\n",
      "('epoch, lrate, error=', 18, 0.01, 0.14906387089627135)\n",
      "epoch = 19\n",
      "('epoch, lrate, error=', 19, 0.01, 0.1392477606167033)\n",
      "epoch = 20\n",
      "('epoch, lrate, error=', 20, 0.01, 0.13111319648662009)\n",
      "epoch = 21\n",
      "('epoch, lrate, error=', 21, 0.01, 0.12448612428164582)\n",
      "epoch = 22\n",
      "('epoch, lrate, error=', 22, 0.01, 0.11911927836304312)\n",
      "epoch = 23\n",
      "('epoch, lrate, error=', 23, 0.01, 0.11476742655305686)\n",
      "epoch = 24\n",
      "('epoch, lrate, error=', 24, 0.01, 0.11121868677119497)\n",
      "epoch = 25\n",
      "('epoch, lrate, error=', 25, 0.01, 0.10830154798314975)\n",
      "epoch = 26\n",
      "('epoch, lrate, error=', 26, 0.01, 0.10588148582961049)\n",
      "epoch = 27\n",
      "('epoch, lrate, error=', 27, 0.01, 0.10385443913224882)\n",
      "epoch = 28\n",
      "('epoch, lrate, error=', 28, 0.01, 0.10214024601357138)\n",
      "epoch = 29\n",
      "('epoch, lrate, error=', 29, 0.01, 0.10067707635693571)\n",
      "epoch = 30\n",
      "('epoch, lrate, error=', 30, 0.01, 0.099417031381063128)\n",
      "epoch = 31\n",
      "('epoch, lrate, error=', 31, 0.01, 0.098322777296007968)\n",
      "epoch = 32\n",
      "('epoch, lrate, error=', 32, 0.01, 0.097365007942522078)\n",
      "epoch = 33\n",
      "('epoch, lrate, error=', 33, 0.01, 0.096520542810876103)\n",
      "epoch = 34\n",
      "('epoch, lrate, error=', 34, 0.01, 0.095770901835515676)\n",
      "epoch = 35\n",
      "('epoch, lrate, error=', 35, 0.01, 0.095101234706610582)\n",
      "epoch = 36\n",
      "('epoch, lrate, error=', 36, 0.01, 0.094499513160751406)\n",
      "epoch = 37\n",
      "('epoch, lrate, error=', 37, 0.01, 0.093955918615988704)\n",
      "epoch = 38\n",
      "('epoch, lrate, error=', 38, 0.01, 0.093462375390720845)\n",
      "epoch = 39\n",
      "('epoch, lrate, error=', 39, 0.01, 0.093012192865910698)\n",
      "epoch = 40\n",
      "('epoch, lrate, error=', 40, 0.01, 0.092599789516570205)\n",
      "epoch = 41\n",
      "('epoch, lrate, error=', 41, 0.01, 0.09222047871621776)\n",
      "epoch = 42\n",
      "('epoch, lrate, error=', 42, 0.01, 0.091870301329755766)\n",
      "epoch = 43\n",
      "('epoch, lrate, error=', 43, 0.01, 0.091545893880113305)\n",
      "epoch = 44\n",
      "('epoch, lrate, error=', 44, 0.01, 0.091244383877380306)\n",
      "epoch = 45\n",
      "('epoch, lrate, error=', 45, 0.01, 0.090963306001510605)\n",
      "epoch = 46\n",
      "('epoch, lrate, error=', 46, 0.01, 0.09070053441624841)\n",
      "epoch = 47\n",
      "('epoch, lrate, error=', 47, 0.01, 0.090454227689261105)\n",
      "epoch = 48\n",
      "('epoch, lrate, error=', 48, 0.01, 0.090222783688281238)\n",
      "epoch = 49\n",
      "('epoch, lrate, error=', 49, 0.01, 0.090004802478085275)\n"
     ]
    },
    {
     "data": {
      "image/png": "[encoded data removed]",
      "text/plain": [
       "<matplotlib.figure.Figure at 0x7f9f65085ad0>"
      ]
     },
     "metadata": {},
     "output_type": "display_data"
    },
    {
     "name": "stdout",
     "output_type": "stream",
     "text": [
      "final hidden layer weights:\n",
      "[[ 0.37984254  0.51551716 -7.38816256]\n",
      " [ 0.49914492  0.54860278  0.35628779]\n",
      " [ 0.63202397  0.60550842  0.34911541]]\n",
      "final ouput layer weights:\n",
      "[[-4.21779786  1.34538706  1.14560368  1.70532293]\n",
      " [ 4.69837449 -0.2846138  -0.68680339 -0.6012878 ]]\n"
     ]
    }
   ],
   "source": [
    "dataset = np.loadtxt(fname=\"sample_shuff_train.txt\")\n",
    "hidden_weights_set = np.random.rand(n_hidden,n_input+1)\n",
    "output_weights_set = np.random.rand(n_output,n_hidden+1)\n",
    "print \"initial hidden layer weights:\\n\",hidden_weights_set\n",
    "print \"initial ouput layer weights:\\n\",output_weights_set   \n",
    "train_network(dataset, 0.01, n_epochs)\n",
    "print \"final hidden layer weights:\\n\",hidden_weights_set\n",
    "print \"final ouput layer weights:\\n\",output_weights_set"
   ]
  },
  {
   "cell_type": "markdown",
   "metadata": {},
   "source": [
    "## testing network"
   ]
  },
  {
   "cell_type": "code",
   "execution_count": 47,
   "metadata": {
    "collapsed": true
   },
   "outputs": [],
   "source": [
    "def test_network(dataset1,dataset2):\n",
    "    sum_error = 0\n",
    "    event_count = 0\n",
    "    event_count2 = 0\n",
    "    classa_pred = np.array([])\n",
    "    classb_pred = np.array([])\n",
    "    for row in dataset1:\n",
    "            event_count =event_count+1\n",
    "            if event_count % 1000 == 0:\n",
    "                print event_count,\"events done out of\",len(dataset)\n",
    "            X_train = row[:2]\n",
    "            Y_train = row[2:]\n",
    "            outputs = forward_pass_output(X_train,hidden_weights_set,output_weights_set)\n",
    "            classa_pred = np.append(classa_pred,outputs[0])\n",
    "    for row in dataset2:\n",
    "            event_count2 =event_count2+1\n",
    "            if event_count2 % 1000 == 0:\n",
    "                print event_count2,\"events done out of\",len(dataset)\n",
    "            X_train = row[:2]\n",
    "            Y_train = row[2:]\n",
    "            outputs = forward_pass_output(X_train,hidden_weights_set,output_weights_set)\n",
    "            classb_pred = np.append(classb_pred,outputs[0])           \n",
    "                \n",
    "    plt.hist(classa_pred,bins=100,range=[0,1],color=\"R\")\n",
    "    plt.hist(classb_pred,bins=100,range=[0,1],color=\"B\")\n",
    "    plt.legend(['Class A', 'Class B'], loc='upper right')\n",
    "    plt.show()\n",
    "    print \"class A accuracy =\", sum(np.array ([1.0 if i >= 0.5 else 0.0 for i in classa_pred]))/len(dataset1)\n",
    "    print \"class B accuracy =\", sum(np.array ([1.0 if i <= 0.5 else 0.0 for i in classb_pred]))/len(dataset2)\n",
    "    print \"combined accuracy=\", (sum(np.array ([1.0 if i >= 0.5 else 0.0 for i in classa_pred])) + sum(np.array ([1.0 if i <= 0.5 else 0.0 for i in classb_pred])))/(len(dataset1)+len(dataset2))"
   ]
  },
  {
   "cell_type": "code",
   "execution_count": 48,
   "metadata": {},
   "outputs": [
    {
     "name": "stdout",
     "output_type": "stream",
     "text": [
      "1000 events done out of 4000\n",
      "2000 events done out of 4000\n",
      "1000 events done out of 4000\n",
      "2000 events done out of 4000\n"
     ]
    },
    {
     "data": {
      "image/png": "[encoded data removed]",
      "text/plain": [
       "<matplotlib.figure.Figure at 0x7f9f659f1bd0>"
      ]
     },
     "metadata": {},
     "output_type": "display_data"
    },
    {
     "name": "stdout",
     "output_type": "stream",
     "text": [
      "class A accuracy = 0.8415\n",
      "class B accuracy = 0.936\n",
      "combined accuracy= 0.88875\n"
     ]
    }
   ],
   "source": [
    "dataset1 = np.loadtxt(fname=\"sample1.txt\")\n",
    "dataset2 = np.loadtxt(fname=\"sample2.txt\")\n",
    "test_network(dataset1,dataset2)"
   ]
  },
  {
   "cell_type": "code",
   "execution_count": 12,
   "metadata": {},
   "outputs": [
    {
     "name": "stdout",
     "output_type": "stream",
     "text": [
      "[[  3.50872849  12.87785727   0.           1.        ]\n",
      " [  3.02386112  13.95733551   0.           1.        ]\n",
      " [  5.88714944  15.37444487   0.           1.        ]\n",
      " [  5.16759251  14.34482308   0.           1.        ]\n",
      " [  7.37537819  13.27499326   0.           1.        ]\n",
      " [  5.84932283  13.83274303   0.           1.        ]\n",
      " [  4.34224259  14.51550221   0.           1.        ]\n",
      " [  5.49191849  14.67907804   0.           1.        ]\n",
      " [  3.58320608  15.24465649   0.           1.        ]\n",
      " [  5.37203312  14.4815345    0.           1.        ]]\n"
     ]
    }
   ],
   "source": [
    "print dataset2[:10,0:4]"
   ]
  },
  {
   "cell_type": "code",
   "execution_count": null,
   "metadata": {
    "collapsed": true
   },
   "outputs": [],
   "source": []
  }
 ],
 "metadata": {
  "kernelspec": {
   "display_name": "Python 2",
   "language": "python",
   "name": "python2"
  },
  "language_info": {
   "codemirror_mode": {
    "name": "ipython",
    "version": 2
   },
   "file_extension": ".py",
   "mimetype": "text/x-python",
   "name": "python",
   "nbconvert_exporter": "python",
   "pygments_lexer": "ipython2",
   "version": "2.7.13"
  }
 },
 "nbformat": 4,
 "nbformat_minor": 2
}
