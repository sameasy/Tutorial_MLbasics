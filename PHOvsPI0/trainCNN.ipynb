{
 "cells": [
  {
   "cell_type": "markdown",
   "metadata": {},
   "source": [
    "### Load neccessary utilities"
   ]
  },
  {
   "cell_type": "code",
   "execution_count": 9,
   "metadata": {},
   "outputs": [],
   "source": [
    "import pandas as pd\n",
    "import numpy as np\n",
    "import matplotlib.pyplot as plt\n",
    "import keras\n",
    "from keras.models import Sequential\n",
    "from keras.layers import Dense\n",
    "from keras.layers import Dropout\n",
    "from keras.layers import Flatten\n",
    "from keras.layers.convolutional import Conv2D\n",
    "from keras.layers.convolutional import MaxPooling2D\n",
    "from keras.utils.np_utils import to_categorical\n",
    "from keras.utils import plot_model\n",
    "from keras import regularizers\n",
    "from sklearn.metrics import roc_curve, auc"
   ]
  },
  {
   "cell_type": "markdown",
   "metadata": {},
   "source": [
    "### Import dataset which contains labeled images for photons and pi0"
   ]
  },
  {
   "cell_type": "code",
   "execution_count": 10,
   "metadata": {
    "collapsed": true
   },
   "outputs": [],
   "source": [
    "# import dataset into pandas\n",
    "data_train= np.loadtxt(\"output0.csv\")\n",
    "data_train.shape\n",
    "(X_train, y_train)= (data_train[:,0:81],data_train[:,81])\n",
    "X_train = X_train.reshape(X_train.shape[0], 9,9,1)\n",
    "Y_train = to_categorical(y_train, 2)"
   ]
  },
  {
   "cell_type": "markdown",
   "metadata": {},
   "source": [
    "### Create, compile and train model"
   ]
  },
  {
   "cell_type": "code",
   "execution_count": 11,
   "metadata": {},
   "outputs": [
    {
     "name": "stdout",
     "output_type": "stream",
     "text": [
      "creating model=========>\n",
      "compilation up next=======>\n",
      "_________________________________________________________________\n",
      "Layer (type)                 Output Shape              Param #   \n",
      "=================================================================\n",
      "conv2d_11 (Conv2D)           (None, 7, 7, 30)          300       \n",
      "_________________________________________________________________\n",
      "conv2d_12 (Conv2D)           (None, 5, 5, 15)          4065      \n",
      "_________________________________________________________________\n",
      "max_pooling2d_6 (MaxPooling2 (None, 2, 2, 15)          0         \n",
      "_________________________________________________________________\n",
      "dropout_4 (Dropout)          (None, 2, 2, 15)          0         \n",
      "_________________________________________________________________\n",
      "flatten_4 (Flatten)          (None, 60)                0         \n",
      "_________________________________________________________________\n",
      "dense_10 (Dense)             (None, 128)               7808      \n",
      "_________________________________________________________________\n",
      "dense_11 (Dense)             (None, 50)                6450      \n",
      "_________________________________________________________________\n",
      "dense_12 (Dense)             (None, 2)                 102       \n",
      "=================================================================\n",
      "Total params: 18,725\n",
      "Trainable params: 18,725\n",
      "Non-trainable params: 0\n",
      "_________________________________________________________________\n",
      "fitting now=========>\n",
      "Train on 56000 samples, validate on 14000 samples\n",
      "Epoch 1/20\n",
      "56000/56000 [==============================] - 21s - loss: 0.7518 - binary_accuracy: 0.7127 - val_loss: 0.5258 - val_binary_accuracy: 0.7830- loss: 0.7604 - binary_accuracy:  - ETA: 0s - loss: 0.7557 - binary_accuracy: 0\n",
      "Epoch 2/20\n",
      "56000/56000 [==============================] - 21s - loss: 0.5105 - binary_accuracy: 0.7872 - val_loss: 0.4828 - val_binary_accuracy: 0.8086\n",
      "Epoch 3/20\n",
      "56000/56000 [==============================] - 20s - loss: 0.4996 - binary_accuracy: 0.7902 - val_loss: 0.4984 - val_binary_accuracy: 0.7895: 0.5023 - binary_acc - ETA: 1s - loss: 0.500\n",
      "Epoch 4/20\n",
      "56000/56000 [==============================] - 20s - loss: 0.4909 - binary_accuracy: 0.7943 - val_loss: 0.4810 - val_binary_accuracy: 0.8029\n",
      "Epoch 5/20\n",
      "56000/56000 [==============================] - 22s - loss: 0.4823 - binary_accuracy: 0.7981 - val_loss: 0.4651 - val_binary_accuracy: 0.8127\n",
      "Epoch 6/20\n",
      "56000/56000 [==============================] - 21s - loss: 0.4789 - binary_accuracy: 0.7987 - val_loss: 0.4643 - val_binary_accuracy: 0.8138\n",
      "Epoch 7/20\n",
      "56000/56000 [==============================] - 21s - loss: 0.4769 - binary_accuracy: 0.7996 - val_loss: 0.4555 - val_binary_accuracy: 0.8154\n",
      "Epoch 8/20\n",
      "56000/56000 [==============================] - 22s - loss: 0.4693 - binary_accuracy: 0.8036 - val_loss: 0.4684 - val_binary_accuracy: 0.8034\n",
      "Epoch 9/20\n",
      "56000/56000 [==============================] - 21s - loss: 0.4676 - binary_accuracy: 0.8043 - val_loss: 0.4511 - val_binary_accuracy: 0.8148\n",
      "Epoch 10/20\n",
      "56000/56000 [==============================] - 22s - loss: 0.4633 - binary_accuracy: 0.8048 - val_loss: 0.4507 - val_binary_accuracy: 0.8170\n",
      "Epoch 11/20\n",
      "56000/56000 [==============================] - 22s - loss: 0.4608 - binary_accuracy: 0.8060 - val_loss: 0.4408 - val_binary_accuracy: 0.8196\n",
      "Epoch 12/20\n",
      "56000/56000 [==============================] - 20s - loss: 0.4577 - binary_accuracy: 0.8068 - val_loss: 0.4399 - val_binary_accuracy: 0.8189\n",
      "Epoch 13/20\n",
      "56000/56000 [==============================] - 21s - loss: 0.4538 - binary_accuracy: 0.8084 - val_loss: 0.4413 - val_binary_accuracy: 0.8204\n",
      "Epoch 14/20\n",
      "56000/56000 [==============================] - 21s - loss: 0.4526 - binary_accuracy: 0.8082 - val_loss: 0.4316 - val_binary_accuracy: 0.8227\n",
      "Epoch 15/20\n",
      "56000/56000 [==============================] - 20s - loss: 0.4479 - binary_accuracy: 0.8120 - val_loss: 0.4408 - val_binary_accuracy: 0.8142\n",
      "Epoch 16/20\n",
      "56000/56000 [==============================] - 22s - loss: 0.4472 - binary_accuracy: 0.8106 - val_loss: 0.4263 - val_binary_accuracy: 0.8250\n",
      "Epoch 17/20\n",
      "56000/56000 [==============================] - 21s - loss: 0.4458 - binary_accuracy: 0.8111 - val_loss: 0.4376 - val_binary_accuracy: 0.8189\n",
      "Epoch 18/20\n",
      "56000/56000 [==============================] - 20s - loss: 0.4438 - binary_accuracy: 0.8133 - val_loss: 0.4335 - val_binary_accuracy: 0.8233\n",
      "Epoch 19/20\n",
      "56000/56000 [==============================] - 20s - loss: 0.4398 - binary_accuracy: 0.8161 - val_loss: 0.4377 - val_binary_accuracy: 0.8168\n",
      "Epoch 20/20\n",
      "56000/56000 [==============================] - 21s - loss: 0.4382 - binary_accuracy: 0.8152 - val_loss: 0.4303 - val_binary_accuracy: 0.8265\n"
     ]
    }
   ],
   "source": [
    "# create model\n",
    "print \"creating model=========>\"\n",
    "model = Sequential()\n",
    "model.add(Conv2D(30, (3, 3),strides=(1, 1), padding=\"valid\", activation=\"relu\", input_shape=(9, 9, 1),kernel_regularizer=regularizers.l2(0.01) ))\n",
    "#model.add(MaxPooling2D(pool_size=(2, 2)))\n",
    "model.add(Conv2D(15, (3, 3), activation='relu'))\n",
    "model.add(MaxPooling2D(pool_size=(2, 2)))\n",
    "model.add(Dropout(0.2))\n",
    "model.add(Flatten())\n",
    "model.add(Dense(128, activation='relu',kernel_regularizer=regularizers.l2(0.01)))\n",
    "model.add(Dense(50, activation='relu'))\n",
    "model.add(Dense(Y_train.shape[1], activation='softmax'))\n",
    "\n",
    "#ADAM = keras.optimizers.Adam(lr=500.005)\n",
    "# Compile model\n",
    "print \"compilation up next=======>\"\n",
    "model.compile(loss='categorical_crossentropy',optimizer='adam',metrics=['binary_accuracy'])\n",
    "#model.compile(loss='categorical_crossentropy',optimizer='ADAM',metrics=['binary_accuracy'])\n",
    "model.summary()\n",
    "plot_model(model, to_file='modelCNN.png',show_shapes=True,show_layer_names=True)\n",
    "#fitting\n",
    "print \"fitting now=========>\"\n",
    "history = model.fit(X_train,Y_train , batch_size=200, epochs=20, validation_split=0.2, verbose=1)"
   ]
  },
  {
   "cell_type": "markdown",
   "metadata": {},
   "source": [
    "### Plot accuracy and loss"
   ]
  },
  {
   "cell_type": "code",
   "execution_count": 5,
   "metadata": {},
   "outputs": [
    {
     "name": "stdout",
     "output_type": "stream",
     "text": [
      "['loss', 'val_binary_accuracy', 'val_loss', 'binary_accuracy']\n"
     ]
    },
    {
     "data": {
      "image/png": "[encoded data removed]",
      "text/plain": [
       "<matplotlib.figure.Figure at 0x7fb6163737d0>"
      ]
     },
     "metadata": {},
     "output_type": "display_data"
    },
    {
     "data": {
      "image/png": "[encoded data removed]",
      "text/plain": [
       "<matplotlib.figure.Figure at 0x7fb5cc454210>"
      ]
     },
     "metadata": {},
     "output_type": "display_data"
    }
   ],
   "source": [
    "print(history.history.keys())\n",
    "# summarize history for accuracy\n",
    "plt.plot(history.history['binary_accuracy'])\n",
    "plt.plot(history.history['val_binary_accuracy'])\n",
    "plt.title('model accuracy')\n",
    "plt.ylabel('accuracy')\n",
    "plt.xlabel('epoch')\n",
    "plt.legend(['train', 'validation'], loc='upper left')\n",
    "plt.show()\n",
    "# summarize history for loss\n",
    "plt.plot(history.history['loss'])\n",
    "plt.plot(history.history['val_loss'])\n",
    "plt.title('model loss')\n",
    "plt.ylabel('loss')\n",
    "plt.xlabel('epoch')\n",
    "plt.legend(['train', 'validatoin'], loc='upper left')\n",
    "plt.show()"
   ]
  },
  {
   "cell_type": "markdown",
   "metadata": {},
   "source": [
    "### Save model (architecture and weights) for testing"
   ]
  },
  {
   "cell_type": "code",
   "execution_count": 6,
   "metadata": {},
   "outputs": [
    {
     "name": "stdout",
     "output_type": "stream",
     "text": [
      "Saved model to disk\n"
     ]
    }
   ],
   "source": [
    "# serialize model to JSON\n",
    "model_json = model.to_json()\n",
    "with open(\"CNN_model.json\", \"w\") as json_file:\n",
    "    json_file.write(model_json)\n",
    "# serialize weights to HDF5\n",
    "model.save_weights(\"CNN_model.h5\")\n",
    "print(\"Saved model to disk\")"
   ]
  },
  {
   "cell_type": "code",
   "execution_count": null,
   "metadata": {
    "collapsed": true
   },
   "outputs": [],
   "source": []
  }
 ],
 "metadata": {
  "kernelspec": {
   "display_name": "Python 2",
   "language": "python",
   "name": "python2"
  },
  "language_info": {
   "codemirror_mode": {
    "name": "ipython",
    "version": 2
   },
   "file_extension": ".py",
   "mimetype": "text/x-python",
   "name": "python",
   "nbconvert_exporter": "python",
   "pygments_lexer": "ipython2",
   "version": "2.7.5"
  }
 },
 "nbformat": 4,
 "nbformat_minor": 2
}
