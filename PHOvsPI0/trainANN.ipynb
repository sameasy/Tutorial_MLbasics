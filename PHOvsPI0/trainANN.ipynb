{
 "cells": [
  {
   "cell_type": "markdown",
   "metadata": {},
   "source": [
    "### Load neccessary utilities"
   ]
  },
  {
   "cell_type": "code",
   "execution_count": 1,
   "metadata": {},
   "outputs": [
    {
     "name": "stderr",
     "output_type": "stream",
     "text": [
      "Using TensorFlow backend.\n"
     ]
    }
   ],
   "source": [
    "import pandas as pd\n",
    "import numpy as np\n",
    "import matplotlib.pyplot as plt\n",
    "import keras\n",
    "from keras.models import Sequential\n",
    "from keras.layers import Dense\n",
    "from keras.layers import Dropout\n",
    "from keras.layers import Flatten\n",
    "from keras.layers.convolutional import Conv2D\n",
    "from keras.layers.convolutional import MaxPooling2D\n",
    "from keras.utils.np_utils import to_categorical\n",
    "from keras.utils import plot_model\n",
    "from sklearn.metrics import roc_curve, auc\n"
   ]
  },
  {
   "cell_type": "markdown",
   "metadata": {},
   "source": [
    "### Import dataset which contains labeled images for photons and pi0"
   ]
  },
  {
   "cell_type": "code",
   "execution_count": 2,
   "metadata": {},
   "outputs": [
    {
     "data": {
      "text/plain": [
       "(70000, 82)"
      ]
     },
     "execution_count": 2,
     "metadata": {},
     "output_type": "execute_result"
    }
   ],
   "source": [
    "# import dataset into pandas\n",
    "data_train= np.loadtxt(\"output0.csv\")\n",
    "data_train.shape"
   ]
  },
  {
   "cell_type": "code",
   "execution_count": 7,
   "metadata": {},
   "outputs": [
    {
     "data": {
      "text/plain": [
       "2"
      ]
     },
     "execution_count": 7,
     "metadata": {},
     "output_type": "execute_result"
    }
   ],
   "source": [
    "(X_train, y_train)= (data_train[:,0:81],data_train[:,81])\n",
    "#X_train = X_train.reshape(X_train.shape[0], 9,9,1)\n",
    "Y_train = to_categorical(y_train, 2)\n",
    "Y_train.shape[1]"
   ]
  },
  {
   "cell_type": "markdown",
   "metadata": {},
   "source": [
    "### Create, compile and train model"
   ]
  },
  {
   "cell_type": "code",
   "execution_count": 11,
   "metadata": {},
   "outputs": [
    {
     "name": "stdout",
     "output_type": "stream",
     "text": [
      "creating model=========>\n",
      "compilation up next=======>\n",
      "_________________________________________________________________\n",
      "Layer (type)                 Output Shape              Param #   \n",
      "=================================================================\n",
      "dense_7 (Dense)              (None, 128)               10496     \n",
      "_________________________________________________________________\n",
      "dropout_1 (Dropout)          (None, 128)               0         \n",
      "_________________________________________________________________\n",
      "dense_8 (Dense)              (None, 50)                6450      \n",
      "_________________________________________________________________\n",
      "dense_9 (Dense)              (None, 2)                 102       \n",
      "=================================================================\n",
      "Total params: 17,048\n",
      "Trainable params: 17,048\n",
      "Non-trainable params: 0\n",
      "_________________________________________________________________\n",
      "fitting now=========>\n",
      "Train on 56000 samples, validate on 14000 samples\n",
      "Epoch 1/20\n",
      "56000/56000 [==============================] - 4s - loss: 0.5725 - binary_accuracy: 0.7157 - val_loss: 0.5136 - val_binary_accuracy: 0.7659\n",
      "Epoch 2/20\n",
      "56000/56000 [==============================] - 4s - loss: 0.4959 - binary_accuracy: 0.7760 - val_loss: 0.4790 - val_binary_accuracy: 0.7887\n",
      "Epoch 3/20\n",
      "56000/56000 [==============================] - 4s - loss: 0.4732 - binary_accuracy: 0.7885 - val_loss: 0.4658 - val_binary_accuracy: 0.7986\n",
      "Epoch 4/20\n",
      "56000/56000 [==============================] - 4s - loss: 0.4638 - binary_accuracy: 0.7922 - val_loss: 0.4566 - val_binary_accuracy: 0.8020\n",
      "Epoch 5/20\n",
      "56000/56000 [==============================] - 4s - loss: 0.4602 - binary_accuracy: 0.7950 - val_loss: 0.4535 - val_binary_accuracy: 0.8039\n",
      "Epoch 6/20\n",
      "56000/56000 [==============================] - 4s - loss: 0.4550 - binary_accuracy: 0.7974 - val_loss: 0.4485 - val_binary_accuracy: 0.8024\n",
      "Epoch 7/20\n",
      "56000/56000 [==============================] - 4s - loss: 0.4518 - binary_accuracy: 0.7982 - val_loss: 0.4510 - val_binary_accuracy: 0.7981\n",
      "Epoch 8/20\n",
      "56000/56000 [==============================] - 4s - loss: 0.4495 - binary_accuracy: 0.7985 - val_loss: 0.4450 - val_binary_accuracy: 0.8035\n",
      "Epoch 9/20\n",
      "56000/56000 [==============================] - 4s - loss: 0.4470 - binary_accuracy: 0.8010 - val_loss: 0.4449 - val_binary_accuracy: 0.8028\n",
      "Epoch 10/20\n",
      "56000/56000 [==============================] - 4s - loss: 0.4451 - binary_accuracy: 0.8014 - val_loss: 0.4437 - val_binary_accuracy: 0.8052\n",
      "Epoch 11/20\n",
      "56000/56000 [==============================] - 4s - loss: 0.4443 - binary_accuracy: 0.8007 - val_loss: 0.4392 - val_binary_accuracy: 0.8074\n",
      "Epoch 12/20\n",
      "56000/56000 [==============================] - 4s - loss: 0.4429 - binary_accuracy: 0.8019 - val_loss: 0.4381 - val_binary_accuracy: 0.8068\n",
      "Epoch 13/20\n",
      "56000/56000 [==============================] - 4s - loss: 0.4399 - binary_accuracy: 0.8026 - val_loss: 0.4390 - val_binary_accuracy: 0.8076\n",
      "Epoch 14/20\n",
      "56000/56000 [==============================] - 4s - loss: 0.4394 - binary_accuracy: 0.8028 - val_loss: 0.4401 - val_binary_accuracy: 0.8068\n",
      "Epoch 15/20\n",
      "56000/56000 [==============================] - 4s - loss: 0.4382 - binary_accuracy: 0.8030 - val_loss: 0.4439 - val_binary_accuracy: 0.7990\n",
      "Epoch 16/20\n",
      "56000/56000 [==============================] - 4s - loss: 0.4366 - binary_accuracy: 0.8042 - val_loss: 0.4354 - val_binary_accuracy: 0.8088\n",
      "Epoch 17/20\n",
      "56000/56000 [==============================] - 4s - loss: 0.4337 - binary_accuracy: 0.8059 - val_loss: 0.4349 - val_binary_accuracy: 0.8105\n",
      "Epoch 18/20\n",
      "56000/56000 [==============================] - 4s - loss: 0.4336 - binary_accuracy: 0.8061 - val_loss: 0.4329 - val_binary_accuracy: 0.8082\n",
      "Epoch 19/20\n",
      "56000/56000 [==============================] - 4s - loss: 0.4322 - binary_accuracy: 0.8074 - val_loss: 0.4270 - val_binary_accuracy: 0.8158\n",
      "Epoch 20/20\n",
      "56000/56000 [==============================] - 4s - loss: 0.4284 - binary_accuracy: 0.8102 - val_loss: 0.4333 - val_binary_accuracy: 0.8115\n"
     ]
    }
   ],
   "source": [
    "# create model\n",
    "print \"creating model=========>\"\n",
    "model = Sequential()\n",
    "model.add(Dense(128,input_dim=81, activation='tanh'))\n",
    "model.add(Dropout(0.2))\n",
    "model.add(Dense(50, activation='relu'))\n",
    "model.add(Dense(Y_train.shape[1], activation='softmax'))\n",
    "# Compile model\n",
    "print \"compilation up next=======>\"\n",
    "model.compile(loss='categorical_crossentropy',optimizer='adam',metrics=['binary_accuracy'])\n",
    "model.summary()\n",
    "plot_model(model, to_file='modelANN.png',show_shapes=True,show_layer_names=True)\n",
    "#fitting\n",
    "print \"fitting now=========>\"\n",
    "history = model.fit(X_train,Y_train , batch_size=200, epochs=20, validation_split=0.2, verbose=1)"
   ]
  },
  {
   "cell_type": "markdown",
   "metadata": {},
   "source": [
    "### Plot accuracy and loss"
   ]
  },
  {
   "cell_type": "code",
   "execution_count": 12,
   "metadata": {},
   "outputs": [
    {
     "name": "stdout",
     "output_type": "stream",
     "text": [
      "['loss', 'val_binary_accuracy', 'val_loss', 'binary_accuracy']\n"
     ]
    },
    {
     "data": {
      "image/png": "[encoded data removed]",
      "text/plain": [
       "<matplotlib.figure.Figure at 0x7f4128e8c590>"
      ]
     },
     "metadata": {},
     "output_type": "display_data"
    },
    {
     "data": {
      "image/png": "[encoded data removed]",
      "text/plain": [
       "<matplotlib.figure.Figure at 0x7f4128b2ff90>"
      ]
     },
     "metadata": {},
     "output_type": "display_data"
    }
   ],
   "source": [
    "print(history.history.keys())\n",
    "# summarize history for accuracy\n",
    "plt.plot(history.history['binary_accuracy'])\n",
    "plt.plot(history.history['val_binary_accuracy'])\n",
    "plt.title('model accuracy')\n",
    "plt.ylabel('accuracy')\n",
    "plt.xlabel('epoch')\n",
    "plt.legend(['train', 'validation'], loc='upper left')\n",
    "plt.show()\n",
    "# summarize history for loss\n",
    "plt.plot(history.history['loss'])\n",
    "plt.plot(history.history['val_loss'])\n",
    "plt.title('model loss')\n",
    "plt.ylabel('loss')\n",
    "plt.xlabel('epoch')\n",
    "plt.legend(['train', 'validatoin'], loc='upper left')\n",
    "plt.show()"
   ]
  },
  {
   "cell_type": "markdown",
   "metadata": {},
   "source": [
    "### Save model (architecture and weights) for testing"
   ]
  },
  {
   "cell_type": "code",
   "execution_count": 24,
   "metadata": {},
   "outputs": [
    {
     "name": "stdout",
     "output_type": "stream",
     "text": [
      "Saved model to disk\n"
     ]
    }
   ],
   "source": [
    "# serialize model to JSON\n",
    "model_json = model.to_json()\n",
    "with open(\"ANN_model.json\", \"w\") as json_file:\n",
    "    json_file.write(model_json)\n",
    "# serialize weights to HDF5\n",
    "model.save_weights(\"ANN_model.h5\")\n",
    "print(\"Saved model to disk\")"
   ]
  },
  {
   "cell_type": "code",
   "execution_count": null,
   "metadata": {
    "collapsed": true
   },
   "outputs": [],
   "source": []
  }
 ],
 "metadata": {
  "kernelspec": {
   "display_name": "Python 2",
   "language": "python",
   "name": "python2"
  },
  "language_info": {
   "codemirror_mode": {
    "name": "ipython",
    "version": 2
   },
   "file_extension": ".py",
   "mimetype": "text/x-python",
   "name": "python",
   "nbconvert_exporter": "python",
   "pygments_lexer": "ipython2",
   "version": "2.7.5"
  }
 },
 "nbformat": 4,
 "nbformat_minor": 2
}
