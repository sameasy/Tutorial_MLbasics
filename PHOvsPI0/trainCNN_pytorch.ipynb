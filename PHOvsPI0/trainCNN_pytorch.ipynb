{
 "cells": [
  {
   "cell_type": "code",
   "execution_count": 1,
   "metadata": {},
   "outputs": [
    {
     "name": "stderr",
     "output_type": "stream",
     "text": [
      "/tmp/ipykernel_133730/1256517549.py:1: DeprecationWarning: Importing display from IPython.core.display is deprecated since IPython 7.14, please import from IPython display\n",
      "  from IPython.core.display import display, HTML\n"
     ]
    },
    {
     "data": {
      "text/html": [
       "<style>.container { width:98% !important; }</style>"
      ],
      "text/plain": [
       "<IPython.core.display.HTML object>"
      ]
     },
     "metadata": {},
     "output_type": "display_data"
    }
   ],
   "source": [
    "from IPython.core.display import display, HTML\n",
    "display(HTML(\"<style>.container { width:98% !important; }</style>\"))"
   ]
  },
  {
   "cell_type": "code",
   "execution_count": 2,
   "metadata": {},
   "outputs": [],
   "source": [
    "import numpy as np\n",
    "import matplotlib.pyplot as plt\n",
    "import torch\n",
    "from sklearn.metrics import roc_curve, auc"
   ]
  },
  {
   "cell_type": "code",
   "execution_count": 5,
   "metadata": {},
   "outputs": [
    {
     "name": "stdout",
     "output_type": "stream",
     "text": [
      "(array([0., 1.]), array([35052, 34948]))\n"
     ]
    },
    {
     "data": {
      "image/png": "[encoded data removed]",
      "text/plain": [
       "<Figure size 640x480 with 2 Axes>"
      ]
     },
     "metadata": {},
     "output_type": "display_data"
    },
    {
     "data": {
      "image/png": "[encoded data removed]",
      "text/plain": [
       "<Figure size 640x480 with 2 Axes>"
      ]
     },
     "metadata": {},
     "output_type": "display_data"
    }
   ],
   "source": [
    "### visualise the dataset\n",
    "dataset = np.loadtxt(\"output0.csv\")\n",
    "print(np.unique(dataset[:,81],return_counts=True))\n",
    "pis = dataset[:,:81][dataset[:,81] == 0]\n",
    "phos = dataset[:,:81][dataset[:,81] == 1]\n",
    "from matplotlib import colors\n",
    "im1 = plt.imshow(np.mean(phos.reshape(len(phos),9,9),axis=0),cmap='jet',norm=colors.LogNorm())\n",
    "plt.colorbar(im1)\n",
    "plt.title(\"photons\")\n",
    "plt.show()\n",
    "im2 = plt.imshow(np.mean(pis.reshape(len(pis),9,9),axis=0),cmap='jet',norm=colors.LogNorm())\n",
    "plt.colorbar(im2)\n",
    "plt.title(\"pi0s\")\n",
    "plt.show()"
   ]
  },
  {
   "cell_type": "code",
   "execution_count": 6,
   "metadata": {
    "scrolled": false
   },
   "outputs": [],
   "source": [
    "## define dataset\n",
    "\n",
    "from torch.utils.data import Dataset\n",
    "class ClassificationDataset(Dataset):\n",
    "    def __init__(self, filename, imagify=False):\n",
    "        self.filename_ = filename\n",
    "        self.data = np.loadtxt(self.filename_)\n",
    "        self.images = torch.tensor(self.data[:,:81],dtype=torch.double)\n",
    "        self.labels = torch.tensor(self.data[:,81],dtype=torch.double)\n",
    "        self.imagify_ = imagify\n",
    "\n",
    "    def __getitem__(self, idx):\n",
    "        if self.imagify_:\n",
    "            self.images = torch.reshape(self.images, (len(self.images),1,9, 9))\n",
    "        image = self.images[idx]\n",
    "        label = self.labels[idx]\n",
    "        \n",
    "        \n",
    "        return image, label\n",
    "\n",
    "    def __len__(self):\n",
    "        return len(self.labels)"
   ]
  },
  {
   "cell_type": "code",
   "execution_count": 7,
   "metadata": {},
   "outputs": [],
   "source": [
    "### create dataset, dataloaders\n",
    "train_datasetCNN = ClassificationDataset(\"output0.csv\", imagify=True)\n",
    "test_datasetCNN = ClassificationDataset(\"output1.csv\", imagify=True)\n",
    "ntrainbatch = 2000\n",
    "ntestbatch = 2000\n",
    "from torch.utils.data import DataLoader\n",
    "trainloaderCNN = DataLoader(train_datasetCNN, batch_size=ntrainbatch)\n",
    "testloaderCNN = DataLoader(test_datasetCNN, batch_size=ntestbatch)"
   ]
  },
  {
   "cell_type": "code",
   "execution_count": 8,
   "metadata": {},
   "outputs": [],
   "source": [
    "### define CNN model\n",
    "\n",
    "import torch.nn as nn\n",
    "import torch.nn.functional as F\n",
    "class NetCNN(nn.Module):\n",
    "    def __init__(self):\n",
    "        super().__init__()\n",
    "        self.conv1 = nn.Conv2d(1, 30, 3,stride=1)\n",
    "        self.pool = nn.MaxPool2d(2, 2)\n",
    "        self.conv2 = nn.Conv2d(30, 15, 3,stride=1)\n",
    "        self.fc1 = nn.Linear(15 * 2 * 2, 128)\n",
    "        self.fc2 = nn.Linear(128, 50)\n",
    "        self.fc3 = nn.Linear(50, 1)\n",
    "        #self.fc4 = nn.Linear(50, 2)\n",
    "\n",
    "    def forward(self, x):\n",
    "        x = F.relu(self.conv1(x))\n",
    "        x = nn.Dropout(p=0.2)(x)\n",
    "        x = self.pool(F.relu(self.conv2(x)))\n",
    "        x = nn.Dropout(p=0.2)(x)\n",
    "        #x = F.relu(self.conv2(x))\n",
    "        x = torch.flatten(x, 1) # flatten all dimensions except batch\n",
    "        x = F.relu(self.fc1(x))\n",
    "        x = F.relu(self.fc2(x))\n",
    "        x = F.sigmoid(self.fc3(x))\n",
    "        #x = self.fc3(x)\n",
    "        return x\n",
    "\n",
    "\n",
    "netcnn = NetCNN()"
   ]
  },
  {
   "cell_type": "code",
   "execution_count": 9,
   "metadata": {},
   "outputs": [],
   "source": [
    "train_datasetDNN = ClassificationDataset(\"output0.csv\", imagify=False)\n",
    "test_datasetDNN = ClassificationDataset(\"output1.csv\", imagify=False)\n",
    "ntrainbatch = 2000\n",
    "ntestbatch = 2000\n",
    "from torch.utils.data import DataLoader\n",
    "trainloaderDNN = DataLoader(train_datasetDNN, batch_size=ntrainbatch)\n",
    "testloaderDNN = DataLoader(test_datasetDNN, batch_size=ntestbatch)"
   ]
  },
  {
   "cell_type": "code",
   "execution_count": 10,
   "metadata": {},
   "outputs": [],
   "source": [
    "### define DNN model\n",
    "import torch.nn as nn\n",
    "import torch.nn.functional as F\n",
    "class NetDNN(nn.Module):\n",
    "    def __init__(self):\n",
    "        super().__init__()\n",
    "        \n",
    "        self.fc1 = nn.Linear(81, 128)\n",
    "        self.fc2 = nn.Linear(128, 50)\n",
    "        self.fc3 = nn.Linear(50, 1)\n",
    "\n",
    "    def forward(self, x):\n",
    "        \n",
    "        x = F.relu(self.fc1(x))\n",
    "        x = nn.Dropout(p=0.2)(x)\n",
    "        x = F.relu(self.fc2(x))\n",
    "        x = nn.Dropout(p=0.2)(x)\n",
    "        x = F.sigmoid(self.fc3(x))\n",
    "        return x\n",
    "\n",
    "\n",
    "netdnn = NetDNN()"
   ]
  },
  {
   "cell_type": "code",
   "execution_count": 11,
   "metadata": {},
   "outputs": [
    {
     "data": {
      "text/plain": [
       "torch.float64"
      ]
     },
     "execution_count": 11,
     "metadata": {},
     "output_type": "execute_result"
    }
   ],
   "source": [
    "#netdnn(train_datasetDNN[0][0])\n",
    "train_datasetDNN[0][1].dtype"
   ]
  },
  {
   "cell_type": "code",
   "execution_count": 12,
   "metadata": {},
   "outputs": [],
   "source": [
    "### define training and testing functions\n",
    "\n",
    "device = torch.device('cuda:1')#('cuda' if torch.cuda.is_available() else 'cpu')\n",
    "model = NetCNN().to(float) ### change to NetDNN().to(float) for DNN\n",
    "model = model.to(device)\n",
    "optimizer = torch.optim.AdamW(model.parameters(), lr=1e-3, weight_decay=1e-3)\n",
    "lossfunction = nn.BCELoss()\n",
    "\n",
    "\n",
    "def train(epoch):\n",
    "    model.train()\n",
    "    loss = []\n",
    "    acc = []\n",
    "    for data in tqdm(trainloaderCNN):  ### change to loaderDNN for DNN\n",
    "            image, label = data[0].to(device),data[1].to(device)\n",
    "            label = torch.reshape(label,(len(label),1))\n",
    "            optimizer.zero_grad()\n",
    "            result = model(image)\n",
    "            #print(label.dtype)\n",
    "            #print(result.dtype)\n",
    "            lossc = lossfunction(result, label)\n",
    "            loss.append(lossc.item()) \n",
    "            lossc.backward()\n",
    "            optimizer.step()\n",
    "            result[result < 0.5] = 0\n",
    "            result[result > 0.5] = 1\n",
    "            #print(result)\n",
    "            match = result==label\n",
    "            acc.append(len(match[match==1])/len(label))\n",
    "            #scheduler.batch_step()\n",
    "    print( 'batches for train:',len(loss)) \n",
    "    print('train loss:',np.mean(np.array(loss)))\n",
    "    print('train acc:',np.mean(np.array(acc)))\n",
    "    return np.mean(np.array(loss)), np.mean(np.array(acc))\n",
    "\n",
    "def test(epoch):\n",
    "    model.eval()\n",
    "    loss = []\n",
    "    acc = []\n",
    "    for data in tqdm(testloaderCNN): ### change to loaderDNN for DNN\n",
    "            image, label = data[0].to(device),data[1].to(device)\n",
    "            label = torch.reshape(label,(len(label),1))\n",
    "            optimizer.zero_grad()\n",
    "            result = model(image)\n",
    "            lossc = lossfunction(result,label )\n",
    "            loss.append(lossc.item())\n",
    "            result[result < 0.5] = 0\n",
    "            result[result > 0.5] = 1\n",
    "            #print(result)\n",
    "            match = result==label\n",
    "            acc.append(len(match[match==1])/len(label))\n",
    "            #scheduler.batch_step()\n",
    "    print( 'batches for train:',len(loss)) \n",
    "    print('test loss:',np.mean(np.array(loss)))\n",
    "    print('test acc:',np.mean(np.array(acc)))\n",
    "    return np.mean(np.array(loss)), np.mean(np.array(acc))\n"
   ]
  },
  {
   "cell_type": "code",
   "execution_count": 13,
   "metadata": {
    "scrolled": false
   },
   "outputs": [
    {
     "name": "stdout",
     "output_type": "stream",
     "text": [
      "epoch: 0\n"
     ]
    },
    {
     "name": "stderr",
     "output_type": "stream",
     "text": [
      "100%|██████████| 35/35 [00:02<00:00, 16.21it/s]\n"
     ]
    },
    {
     "name": "stdout",
     "output_type": "stream",
     "text": [
      "batches for train: 35\n",
      "train loss: 0.6910395806576618\n",
      "train acc: 0.5406142857142857\n"
     ]
    },
    {
     "name": "stderr",
     "output_type": "stream",
     "text": [
      "100%|██████████| 15/15 [00:00<00:00, 35.16it/s]\n"
     ]
    },
    {
     "name": "stdout",
     "output_type": "stream",
     "text": [
      "batches for train: 15\n",
      "test loss: 0.682968015475243\n",
      "test acc: 0.5798666666666666\n",
      "new best test loss: 0.682968015475243\n",
      "epoch: 1\n"
     ]
    },
    {
     "name": "stderr",
     "output_type": "stream",
     "text": [
      "100%|██████████| 35/35 [00:01<00:00, 29.02it/s]\n"
     ]
    },
    {
     "name": "stdout",
     "output_type": "stream",
     "text": [
      "batches for train: 35\n",
      "train loss: 0.6441268866700998\n",
      "train acc: 0.649942857142857\n"
     ]
    },
    {
     "name": "stderr",
     "output_type": "stream",
     "text": [
      "100%|██████████| 15/15 [00:00<00:00, 45.84it/s]"
     ]
    },
    {
     "name": "stdout",
     "output_type": "stream",
     "text": [
      "batches for train: 15\n",
      "test loss: 0.5911823223593896\n",
      "test acc: 0.6901333333333334\n",
      "new best test loss: 0.5911823223593896\n"
     ]
    },
    {
     "name": "stderr",
     "output_type": "stream",
     "text": [
      "\n"
     ]
    }
   ],
   "source": [
    "### loop over the datset and train/test\n",
    "\n",
    "from tqdm import tqdm as tqdm\n",
    "nepoch=2\n",
    "best_loss = 99999999\n",
    "losst = []\n",
    "lossv = []\n",
    "acct = []\n",
    "accv = []\n",
    "epochs = []\n",
    "for epoch in range(nepoch):\n",
    "    print ('epoch:',epoch)\n",
    "    trainl = train(epoch)\n",
    "    losst.append(trainl[0])\n",
    "    acct.append(trainl[1])\n",
    "    testl = test(epoch)\n",
    "    loss_epoch = testl[0]\n",
    "    lossv.append(loss_epoch)\n",
    "    accv.append(testl[1])\n",
    "    epochs.append(epoch)\n",
    "\n",
    "    if loss_epoch < best_loss:\n",
    "        best_loss = loss_epoch\n",
    "        print('new best test loss:',best_loss)\n",
    "        \n",
    "    if ((epoch+1)%10 == 0):\n",
    "        plt.plot(np.array(epochs),np.array(losst),c='b',label='training')\n",
    "        plt.plot(np.array(epochs),np.array(lossv),c='r',label='testing')\n",
    "        plt.legend()\n",
    "        plt.title(\"loss\")\n",
    "        #if ((epoch+1) == nepoch):\n",
    "        #    plt.savefig('%s/TrainvsValLoss_ep%d.png'%(plot_dir, epoch), bbox_inches='tight')\n",
    "        plt.show()\n",
    "        plt.plot(np.array(epochs),np.array(acct),c='b',label='training')\n",
    "        plt.plot(np.array(epochs),np.array(accv),c='r',label='testing')\n",
    "        plt.legend()\n",
    "        plt.title(\"accuracy\")\n",
    "        #if ((epoch+1) == nepoch):\n",
    "        #    plt.savefig('%s/TrainvsValLoss_ep%d.png'%(plot_dir, epoch), bbox_inches='tight')\n",
    "        plt.show()\n",
    "    #break"
   ]
  },
  {
   "cell_type": "code",
   "execution_count": null,
   "metadata": {},
   "outputs": [],
   "source": []
  },
  {
   "cell_type": "code",
   "execution_count": null,
   "metadata": {},
   "outputs": [],
   "source": []
  }
 ],
 "metadata": {
  "kernelspec": {
   "display_name": "torchtestNEW",
   "language": "python",
   "name": "torchtestnew"
  },
  "language_info": {
   "codemirror_mode": {
    "name": "ipython",
    "version": 3
   },
   "file_extension": ".py",
   "mimetype": "text/x-python",
   "name": "python",
   "nbconvert_exporter": "python",
   "pygments_lexer": "ipython3",
   "version": "3.10.11"
  }
 },
 "nbformat": 4,
 "nbformat_minor": 2
}
