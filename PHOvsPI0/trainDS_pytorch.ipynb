{
 "cells": [
  {
   "cell_type": "code",
   "execution_count": 1,
   "metadata": {},
   "outputs": [
    {
     "name": "stderr",
     "output_type": "stream",
     "text": [
      "/tmp/ipykernel_3707/1256517549.py:1: DeprecationWarning: Importing display from IPython.core.display is deprecated since IPython 7.14, please import from IPython display\n",
      "  from IPython.core.display import display, HTML\n"
     ]
    },
    {
     "data": {
      "text/html": [
       "<style>.container { width:98% !important; }</style>"
      ],
      "text/plain": [
       "<IPython.core.display.HTML object>"
      ]
     },
     "metadata": {},
     "output_type": "display_data"
    }
   ],
   "source": [
    "from IPython.core.display import display, HTML\n",
    "display(HTML(\"<style>.container { width:98% !important; }</style>\"))"
   ]
  },
  {
   "cell_type": "code",
   "execution_count": 30,
   "metadata": {},
   "outputs": [],
   "source": [
    "import numpy as np\n",
    "import matplotlib.pyplot as plt\n",
    "import torch\n",
    "import torch.nn as nn\n",
    "import torch.nn.functional as F\n",
    "from sklearn.metrics import roc_curve, auc"
   ]
  },
  {
   "cell_type": "code",
   "execution_count": 5,
   "metadata": {},
   "outputs": [
    {
     "name": "stdout",
     "output_type": "stream",
     "text": [
      "(array([0., 1.]), array([35052, 34948]))\n"
     ]
    },
    {
     "data": {
      "image/png": "[encoded data removed]",
      "text/plain": [
       "<Figure size 640x480 with 2 Axes>"
      ]
     },
     "metadata": {},
     "output_type": "display_data"
    },
    {
     "data": {
      "image/png": "[encoded data removed]",
      "text/plain": [
       "<Figure size 640x480 with 2 Axes>"
      ]
     },
     "metadata": {},
     "output_type": "display_data"
    }
   ],
   "source": [
    "### visualise the dataset\n",
    "dataset = np.loadtxt(\"output0.csv\")\n",
    "print(np.unique(dataset[:,81],return_counts=True))\n",
    "pis = dataset[:,:81][dataset[:,81] == 0]\n",
    "phos = dataset[:,:81][dataset[:,81] == 1]\n",
    "from matplotlib import colors\n",
    "im1 = plt.imshow(np.mean(phos.reshape(len(phos),9,9),axis=0),cmap='jet',norm=colors.LogNorm())\n",
    "plt.colorbar(im1)\n",
    "plt.title(\"photons\")\n",
    "plt.show()\n",
    "im2 = plt.imshow(np.mean(pis.reshape(len(pis),9,9),axis=0),cmap='jet',norm=colors.LogNorm())\n",
    "plt.colorbar(im2)\n",
    "plt.title(\"pi0s\")\n",
    "plt.show()"
   ]
  },
  {
   "cell_type": "code",
   "execution_count": null,
   "metadata": {},
   "outputs": [],
   "source": []
  },
  {
   "cell_type": "code",
   "execution_count": 41,
   "metadata": {
    "scrolled": false
   },
   "outputs": [],
   "source": [
    "## define dataset\n",
    "\n",
    "from torch.utils.data import Dataset\n",
    "class ClassificationDataset_PC(Dataset):\n",
    "    def __init__(self, filename):\n",
    "        self.filename_ = filename\n",
    "        self.data = np.loadtxt(self.filename_)\n",
    "        self.imageflat = torch.tensor(self.data[:,:81],dtype=torch.float)\n",
    "        self.images = torch.reshape(self.imageflat, (len(self.imageflat),9, 9))\n",
    "        self.labels = torch.tensor(self.data[:,81],dtype=torch.double)\n",
    "        self.pc_dataset = [ self.transform_2d_img_to_point_cloud(self.images[idx],self.labels[idx]) for idx in range(len(self.imageflat)) ]\n",
    "        self.pc = torch.stack([i['point'] for i in self.pc_dataset],dim=0)\n",
    "    \n",
    "    def transform_2d_img_to_point_cloud(self, image, label) :\n",
    "    \n",
    "        img, label = image, label\n",
    "        #img_array = img[0]\n",
    "        values = img.flatten()\n",
    "        x_coord = torch.argwhere(img > -1.)[:,0]/img.shape[0]\n",
    "        y_coord = torch.argwhere(img > -1.)[:,1]/img.shape[0]\n",
    "        \n",
    "        point_vec = torch.stack( (x_coord, y_coord, values), dim=-1)\n",
    "        \n",
    "        return {'point' : point_vec, 'label' : label, 'seq_length' : len(point_vec)}\n",
    "\n",
    "    def __len__(self):\n",
    "        return len(self.labels)\n",
    "    \n",
    "    def __getitem__(self, idx):\n",
    "        \n",
    "        \n",
    "        \n",
    "        return self.pc[idx], self.labels[idx]\n",
    "    \n"
   ]
  },
  {
   "cell_type": "code",
   "execution_count": 42,
   "metadata": {},
   "outputs": [],
   "source": [
    "### create dataset, dataloaders\n",
    "train_datasetDS = ClassificationDataset_PC(\"output0.csv\")\n",
    "test_datasetDS = ClassificationDataset_PC(\"output1.csv\")\n"
   ]
  },
  {
   "cell_type": "code",
   "execution_count": 77,
   "metadata": {},
   "outputs": [],
   "source": [
    "ntrainbatch = 20\n",
    "ntestbatch = 20\n",
    "from torch.utils.data import DataLoader\n",
    "trainloaderDS = DataLoader(train_datasetDS, batch_size=ntrainbatch)\n",
    "testloaderDS = DataLoader(test_datasetDS, batch_size=ntestbatch)"
   ]
  },
  {
   "cell_type": "code",
   "execution_count": 32,
   "metadata": {},
   "outputs": [],
   "source": [
    "### define Deepsets model\n",
    "## model from here: https://github.com/sanmayphy/ICTS_ML_SCHOOL/blob/main/Day1/DeepSets_Tutorial.ipynb\n",
    "class DeepSetLayer(nn.Module):\n",
    "    def __init__(self, in_features:int, out_features:int,  normalization:str = '', pool:str = 'mean') -> None :\n",
    "        \"\"\"\n",
    "        DeepSets single layer\n",
    "        :param in_features: input's number of features\n",
    "        :param out_features: output's number of features\n",
    "        :param attention: Whether to use attention\n",
    "        :param normalization: normalization method - 'fro' or 'batchnorm'\n",
    "        \n",
    "        \"\"\"\n",
    "        super(DeepSetLayer, self).__init__()\n",
    "\n",
    "        self.Gamma = nn.Linear(in_features, out_features)\n",
    "        self.Lambda = nn.Linear(in_features, out_features)\n",
    "\n",
    "        self.normalization = normalization\n",
    "        self.pool = pool\n",
    "        \n",
    "        if normalization == 'batchnorm':\n",
    "            self.bn = nn.BatchNorm1d(out_features)\n",
    "\n",
    "    def forward(self, x : torch.Tensor) -> torch.Tensor :\n",
    "        # x.shape = (B, N, C)\n",
    "        if(self.pool == 'mean') : \n",
    "            x = self.Gamma(x) + self.Lambda(x - x.mean(dim=1, keepdim=True)) # -- the average is over the points -- #\n",
    "        elif(self.pool == 'max') :\n",
    "            x = self.Gamma(x) + self.Lambda(x - x.max(dim=1, keepdim=True)) # -- the max is over the points -- #\n",
    "\n",
    "        # normalization\n",
    "        if self.normalization == 'batchnorm':\n",
    "            x = self.bn(x)\n",
    "        \n",
    "\n",
    "        return x\n",
    "\n",
    "\n",
    "class DeepSet(nn.Module):\n",
    "    def __init__(self, in_features:int, feats:list, n_class:int, normalization:str = '', pool:str = 'mean') ->None:\n",
    "        \"\"\"\n",
    "        DeepSets implementation\n",
    "        :param in_features: input's number of features\n",
    "        :param feats: list of features for each deepsets layer\n",
    "        \"\"\"\n",
    "        super(DeepSet, self).__init__()\n",
    "\n",
    "        layers = []\n",
    "\n",
    "        layers.append(DeepSetLayer(in_features = in_features, out_features = feats[0], normalization = normalization, pool = pool))\n",
    "        for i in range(1, len(feats)):\n",
    "            layers.append(nn.ReLU())\n",
    "            layers.append(DeepSetLayer(in_features = feats[i-1], out_features = feats[i], normalization = normalization, pool = pool))\n",
    "\n",
    "        layers.append(DeepSetLayer(in_features = feats[-1], out_features = n_class, normalization = normalization, pool = pool))\n",
    "        #self.sequential = nn.Sequential(*layers)\n",
    "        self.sequential = nn.ModuleList(layers)\n",
    "\n",
    "    def forward(self, x:torch.Tensor) -> torch.Tensor:\n",
    "        #return self.sequential(x)\n",
    "        for i, layer in enumerate(self.sequential):\n",
    "            x = layer(x)\n",
    "        \n",
    "        x = x.mean(dim=1) # -- average over the points -- #\n",
    "        out = F.log_softmax(x, dim=-1)\n",
    "        \n",
    "        return out\n",
    "    \n",
    "    \n",
    "#netcnn = NetCNN()"
   ]
  },
  {
   "cell_type": "code",
   "execution_count": 43,
   "metadata": {},
   "outputs": [
    {
     "name": "stdout",
     "output_type": "stream",
     "text": [
      "torch.Size([2000, 81, 3]) torch.Size([2000])\n"
     ]
    },
    {
     "data": {
      "text/plain": [
       "(torch.Size([2000, 81, 3]), torch.Size([2000, 81, 4]))"
      ]
     },
     "execution_count": 43,
     "metadata": {},
     "output_type": "execute_result"
    }
   ],
   "source": [
    "pc_chunk, label_chunk = next(iter(trainloaderDS))\n",
    "print(pc_chunk.shape, label_chunk.shape)\n",
    "ds_layer = DeepSetLayer(in_features = 3, out_features = 4)\n",
    "y = ds_layer(pc_chunk)\n",
    "pc_chunk.shape, y.shape"
   ]
  },
  {
   "cell_type": "code",
   "execution_count": 75,
   "metadata": {},
   "outputs": [],
   "source": [
    "### define training and testing functions\n",
    "\n",
    "device = torch.device('cuda:1')#('cuda' if torch.cuda.is_available() else 'cpu')\n",
    "device = torch.device('cpu')\n",
    "#model = NetCNN().to(float) ### change to NetDNN().to(float) for DNN\n",
    "#model = model.to(device)\n",
    "\n",
    "model = DeepSet(in_features=3, feats=[5, 9, 12, 16, 13], n_class=2)\n",
    "model = model.to(device)\n",
    "\n",
    "\n",
    "optimizer = torch.optim.AdamW(model.parameters(), lr=1e-3, weight_decay=1e-3)\n",
    "lossfunction = nn.BCELoss()\n",
    "\n",
    "\n",
    "def train(epoch):\n",
    "    model.train()\n",
    "    loss = []\n",
    "    true_preds, num_preds = 0., 0.\n",
    "    for data in tqdm(trainloaderDS):  ### change to loaderDNN for DNN\n",
    "            image, label = data[0].to(device),data[1].to(device)\n",
    "            label = label.to(torch.long)\n",
    "            optimizer.zero_grad()\n",
    "            result = model(image)\n",
    "            #print(label.dtype)\n",
    "            #print(result.dtype)\n",
    "            #lossc = lossfunction(result, label)\n",
    "            lossc = F.nll_loss(result, label)\n",
    "            \n",
    "            loss.append(lossc.item()) \n",
    "            lossc.backward()\n",
    "            optimizer.step()\n",
    "            pred_labels = torch.argmax(result, dim=-1) \n",
    "            true_preds += (pred_labels == label).sum()\n",
    "            num_preds += label.shape[0]\n",
    "            \n",
    "    acc = true_preds / num_preds\n",
    "    print( 'batches for train:',len(loss)) \n",
    "    print('train loss:',np.mean(np.array(loss)))\n",
    "    print('train acc:',np.mean(np.array(acc)))\n",
    "    return np.mean(np.array(loss)), np.array(acc)\n",
    "\n",
    "def test(epoch):\n",
    "    model.eval()\n",
    "    loss = []\n",
    "    true_preds, num_preds = 0., 0.\n",
    "    for data in tqdm(testloaderDS): ### change to loaderDNN for DNN\n",
    "            image, label = data[0].to(device),data[1].to(device)\n",
    "            label = label.to(torch.long)\n",
    "            optimizer.zero_grad()\n",
    "            result = model(image)\n",
    "            lossc = F.nll_loss(result, label)\n",
    "            loss.append(lossc.item())\n",
    "            \n",
    "            pred_labels = torch.argmax(result, dim=-1) \n",
    "            true_preds += (pred_labels == label).sum()\n",
    "            num_preds += label.shape[0]\n",
    "            \n",
    "            \n",
    "    acc = true_preds / num_preds\n",
    "    print( 'batches for train:',len(loss)) \n",
    "    print('test loss:',np.mean(np.array(loss)))\n",
    "    print('test acc:',np.mean(np.array(acc)))\n",
    "    return np.mean(np.array(loss)), np.array(acc)"
   ]
  },
  {
   "cell_type": "code",
   "execution_count": null,
   "metadata": {
    "scrolled": false
   },
   "outputs": [],
   "source": [
    "### loop over the datset and train/test\n",
    "\n",
    "from tqdm import tqdm as tqdm\n",
    "nepoch=20\n",
    "best_loss = 99999999\n",
    "losst = []\n",
    "lossv = []\n",
    "acct = []\n",
    "accv = []\n",
    "epochs = []\n",
    "for epoch in range(nepoch):\n",
    "    print ('epoch:',epoch)\n",
    "    trainl = train(epoch)\n",
    "    losst.append(trainl[0])\n",
    "    acct.append(trainl[1])\n",
    "    testl = test(epoch)\n",
    "    loss_epoch = testl[0]\n",
    "    lossv.append(loss_epoch)\n",
    "    accv.append(testl[1])\n",
    "    epochs.append(epoch)\n",
    "\n",
    "    if loss_epoch < best_loss:\n",
    "        best_loss = loss_epoch\n",
    "        print('new best test loss:',best_loss)\n",
    "        \n",
    "    if ((epoch+1)%10 == 0):\n",
    "        plt.plot(np.array(epochs),np.array(losst),c='b',label='training')\n",
    "        plt.plot(np.array(epochs),np.array(lossv),c='r',label='testing')\n",
    "        plt.legend()\n",
    "        plt.title(\"loss\")\n",
    "        #if ((epoch+1) == nepoch):\n",
    "        #    plt.savefig('%s/TrainvsValLoss_ep%d.png'%(plot_dir, epoch), bbox_inches='tight')\n",
    "        plt.show()\n",
    "        plt.plot(np.array(epochs),np.array(acct),c='b',label='training')\n",
    "        plt.plot(np.array(epochs),np.array(accv),c='r',label='testing')\n",
    "        plt.legend()\n",
    "        plt.title(\"accuracy\")\n",
    "        #if ((epoch+1) == nepoch):\n",
    "        #    plt.savefig('%s/TrainvsValLoss_ep%d.png'%(plot_dir, epoch), bbox_inches='tight')\n",
    "        plt.show()\n",
    "    #break"
   ]
  },
  {
   "cell_type": "code",
   "execution_count": 62,
   "metadata": {},
   "outputs": [
    {
     "name": "stderr",
     "output_type": "stream",
     "text": [
      "  0%|          | 0/35 [00:00<?, ?it/s]"
     ]
    },
    {
     "name": "stdout",
     "output_type": "stream",
     "text": [
      "torch.Size([81, 3])\n"
     ]
    },
    {
     "name": "stderr",
     "output_type": "stream",
     "text": [
      "\n"
     ]
    }
   ],
   "source": [
    "for data in tqdm(trainloaderDS):  ### change to loaderDNN for DNN\n",
    "            image, label = data[0].to(device),data[1].to(device)\n",
    "            print(image[0].shape)\n",
    "            break"
   ]
  },
  {
   "cell_type": "code",
   "execution_count": 68,
   "metadata": {},
   "outputs": [],
   "source": [
    "def visualize_samples(data, label, marker='o'):\n",
    "    if isinstance(data, torch.Tensor):\n",
    "        data = data.cpu().numpy()\n",
    "    if isinstance(label, torch.Tensor):\n",
    "        label = label.cpu().numpy()\n",
    "        \n",
    "    plt.figure(figsize=(4,4))\n",
    "    plt.scatter(data[:,0] , data[:,1], edgecolor=\"#333\",s =data[:,2]*100 , marker=marker, label=\"Class \" + str(label))\n",
    "    \n",
    "    plt.title(\"Dataset samples\")\n",
    "    plt.ylabel(r\"$x_2$\")\n",
    "    plt.xlabel(r\"$x_1$\")\n",
    "    plt.legend()"
   ]
  },
  {
   "cell_type": "code",
   "execution_count": 74,
   "metadata": {},
   "outputs": [
    {
     "name": "stderr",
     "output_type": "stream",
     "text": [
      "  0%|          | 0/35 [00:00<?, ?it/s]\n"
     ]
    },
    {
     "name": "stdout",
     "output_type": "stream",
     "text": [
      "torch.Size([2000, 81, 3])\n"
     ]
    },
    {
     "data": {
      "image/png": "[encoded data removed]",
      "text/plain": [
       "<Figure size 400x400 with 1 Axes>"
      ]
     },
     "metadata": {},
     "output_type": "display_data"
    }
   ],
   "source": [
    "for data in tqdm(trainloaderDS):  ### change to loaderDNN for DNN\n",
    "            image, label = data[0].to(device),data[1].to(device)\n",
    "            visualize_samples(image[0],label[0])\n",
    "            \n",
    "            print(data[0].shape,)\n",
    "            break"
   ]
  },
  {
   "cell_type": "code",
   "execution_count": null,
   "metadata": {},
   "outputs": [],
   "source": []
  }
 ],
 "metadata": {
  "kernelspec": {
   "display_name": "torchtestNEW",
   "language": "python",
   "name": "torchtestnew"
  },
  "language_info": {
   "codemirror_mode": {
    "name": "ipython",
    "version": 3
   },
   "file_extension": ".py",
   "mimetype": "text/x-python",
   "name": "python",
   "nbconvert_exporter": "python",
   "pygments_lexer": "ipython3",
   "version": "3.10.11"
  }
 },
 "nbformat": 4,
 "nbformat_minor": 2
}
